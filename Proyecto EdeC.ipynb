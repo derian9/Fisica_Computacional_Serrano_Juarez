{
 "cells": [
  {
   "cell_type": "markdown",
   "metadata": {},
   "source": [
    "# Solución a la Ecuación de Calor Bidimensional"
   ]
  },
  {
   "cell_type": "markdown",
   "metadata": {},
   "source": [
    "## Con Condiciones de Dirichlet en Coordenadas Polares"
   ]
  },
  {
   "cell_type": "markdown",
   "metadata": {},
   "source": [
    "![calor](https://t1.rbxcdn.com/af592931f3ac990bf51a387228788c6d)"
   ]
  },
  {
   "cell_type": "markdown",
   "metadata": {},
   "source": [
    "__Una breve introducción:__ La ecuación del calor es una importante ecuación diferencial en derivadas parciales que describe la variación y la evolución del calor (o de la temperatura) en una región a lo largo intervalo de tiempo.\n",
    "\n",
    "El matemático y físico francés Jean Baptiste Joseph Fourier (1768-1830) fue pionero en el estudio\n",
    "de la transferencia del calor en sólidos y fue quien dedujo la denominada Ecuación del Calor:\n",
    "\n",
    "$$\\displaystyle {k\\frac {\\partial u}{\\partial t}}-\\nabla ^{2}u=0$$\n",
    "\n",
    "En nuestro caso buscaremos una función que sea solución de la ecuación en una región polar del tipo $ 0\\leq r \\leq 10;0\\leq t  $. Para esto se usará las siguientes condiciones de frontera.\n",
    " $$u(a,\\theta,t)=T_0$$\n",
    " $$u(r, \\theta,0)=P(r,\\theta)$$ \n",
    " \n",
    "Donde $T_0$ es una contante, es decir es una temperatura fija, la idea es que la placa se calienta en medio y luego se deja enfriar, de manera que en el borde de la placa circular, la temperatura no cambia.\n",
    "\n",
    "__Planteamiento:__ para darle solución escogeremos previamente una malla en $(r,\\theta)$ y además vamos a tomar un intervalo de tiempo finito $[0,t_0]$\n",
    " \n",
    "Discreticemos $\\nabla^2$ en coordenadas polares, para ello recordemos lo siguiente:\n",
    " \n",
    "$$\\Delta f=\\nabla ^{2}f={\\partial ^{2}f \\over \\partial r ^{2}}+{1 \\over r }{\\partial f \\over \\partial r }+{1 \\over r ^{2}}{\\partial ^{2}f \\over \\partial \\theta ^{2}}$$\n",
    "\n",
    "Tomando las aproximaciones\n",
    "$$\\frac {\\partial f(r,\\theta,t)}{\\partial r} \\approx \\frac {f(r+h,\\theta,t)-f(r-h,\\theta,t)}{2h} $$\n",
    "$$\\frac {\\partial^2 f(r,\\theta,t)}{\\partial r^2} \\approx \\frac{f(r+h,\\theta,t)+f(r-h,\\theta,t)-2f(r,\\theta,t)}{h^2}$$\n",
    "$$\\frac {\\partial^2 f(r,\\theta,t)}{\\partial \\theta^2} \\approx \\frac{f(r,\\theta+h,t)+f(r,\\theta-h,t)-2f(r,\\theta,t)}{h^2}$$\n",
    "$$\\frac {\\partial f(r,\\theta,t)}{\\partial t} \\approx \\frac {f(r,\\theta,t+s)-f(r,\\theta,t-s)}{2s} $$"
   ]
  },
  {
   "cell_type": "markdown",
   "metadata": {},
   "source": [
    "Por lo que nuestro laplaciano es:\n",
    "$$\\nabla ^{2}f(r,\\theta,t)=\\frac{f(r+h,\\theta,t)+f(r-h,\\theta,t)-2f(r,\\theta,t)}{h^2} + \\frac {f(r+h,\\theta,t)-f(r-h,\\theta,t)}{2rh} + \\frac{f(r,\\theta+h,t)+f(r,\\theta-h,t)-2f(r,\\theta,t)}{r^2h^2}$$\n",
    "\n",
    "En nuestro caso además el operador diferencial por discretizar es $k\\frac{\\partial}{\\partial t} -\\nabla^2$, por lo cual queda discretizado por:\n",
    "\n",
    "$$k\\frac {f(r,\\theta,t+s)-f(r,\\theta,t-s)}{2s} - \\frac{f(r+h,\\theta,t)+f(r-h,\\theta,t)-2f(r,\\theta,t)}{h^2} + \\frac {f(r+h,\\theta,t)-f(r-h,\\theta,t)}{2rh} + \\frac{f(r,\\theta+h,t)+f(r,\\theta-h,t)-2f(r,\\theta,t)}{r^2h^2}$$"
   ]
  },
  {
   "cell_type": "markdown",
   "metadata": {},
   "source": [
    "Antes de crear el programa vamos a analizar la ruta que debemos seguir para aplicar diferencias finitas:\n",
    "\n",
    "Tomando una malla homogenea que dé el usuario através del parámetro $h_0$, el cual implementaremos con linspace\n",
    "\n",
    "reescribimos nuestra fórmula como :\n",
    "\n",
    "$$k\\frac{\\partial f_{ij}}{\\partial t} - \\frac{f_{i+1j}-2f_{ij}+f_{i-1j}}{h^2} + \\frac {f_{i+1j}-f_{i-1j}}{2rh} + \\frac{f_{ij+1}-2f_{ij}+f_{ij-1}}{r^2d^2}=0$$\n",
    "Donde d es el espaciamiento de la malla en $\\theta$ y $h$ en el radio.\n",
    "\n",
    "Ahora bien, considerando cada $f_{ij}$ se tiene que son funciones en tiempo por lo tanto la ecuaión anterior puede ser vista como un sistema de ecuaciones para las funciones $f_{ij}$, por tanto ahora podemos aplicar Euler o RungeKutta para obtener la solucion a cada $f_{ij}$ recordando que $f_{ij}$ representa la temperatura en el punto $(ih_r,jh_{\\theta})$ en polares, donde $h_r$ y $h_{\\theta}$ representan las anchuras en la malla que por comodidad tomaremos homogenea, aunque para graficar será necesario aclarar que tendrá que graficar los valores que de $f_{ij}$ en el punto $(ih_r\\cos(jh_{\\theta}),ih_r\\sin(jh_{\\theta}))$\n",
    "\n",
    "Por lo tanto nuestro problema se reduce a encontrar la función del sistema dinamico, es decir:\n",
    "$$\\frac {\\partial\\vec u }{ \\partial t}=F(\\vec u)$$\n",
    "\n",
    "Donde $\\vec u$ es el vector que tiene por entradas a las $f_{ij}$ despejando de la expresión anterior se tiene que:\n",
    "$$F(\\vec u) = \\frac {1}{k}\\left(\\frac{f_{i+1j}-2f_{ij}+f_{i-1j}}{h^2} + \\frac {f_{i+1j}-f_{i-1j}}{2rh} + \\frac{f_{ij+1}-2f_{ij}+f_{ij-1}}{r^2d^2}\\right)$$\n",
    "\n",
    "sin embarjo cuando tenemos el primer $i$ tenemos que aplicar derivada aproximda como sigue:\n",
    "$$\\frac {\\partial f_{1,j} }{ \\partial r}=\\frac{f_{2,j}-f_{1,j}}{h}\\ ;\\ \\frac {\\partial^2 f_{1,j} }{ \\partial r^2}=\\frac{f_{3,j}-2f_{2,j}+f_{1,j}}{h^2}$$\n",
    "\n",
    "por lo cual la expresión de $F$ en el caso $i=1$:\n",
    "$$F(\\vec u) = \\frac {1}{k}\\left(\\frac{f_{3,j}-2f_{2,j}+f_{1,j}}{h^2} + \\frac {f_{2,j}-f_{1,j}}{2rh} + \\frac{f_{ij+1}-2f_{ij}+f_{ij-1}}{r^2d^2}\\right)$$\n",
    "ademas hay que aclarar que $f_{i,m+1}=f_{i,1}$ y que $f_{i,1-1(=0)}=f_{i,m}$ esto pues en el ángulo es periodico.\n",
    "\n",
    "Ahora veremos las condiciones inicales y de frontera:\n",
    "en nuestro caso consideramos pues la malla en $r$ como sigue: $\\{h_r,2h_r,\\ldots,nh_r=10\\}$ y para $\\theta$ como: $\\{h_{\\theta},2h_{\\theta},\\ldots,mh_{\\theta}=2\\pi\\}$\n",
    "\n",
    "ahora con las condiciones de frontera tenemos que:\n",
    "$$f_{nj}(t)=T_0$$\n",
    "esto pues en la frontera se mantiene constante para todo valor del ángulo y tiempo siempre que estemos en el radio $10=nh_r$, pero no es la única condición, pues aunque ya están determinadas algunas \"$f$´s\" para aplicar euler recordemos que hace falta una condición inicial, la cual tenemos como sigue:\n",
    "\n",
    "$$f_{ij}(0)=P(ih_r,jh_{\\theta})\\ \\forall\\ i$$\n",
    "aqui es donde se ocupa el que $P(10,\\theta)=T_0\\ \\forall \\theta\\in[0,2\\pi]$, en pocas palabras, la compatibilidad de las condiciones inicial y de frontera, esto nos dice que las condiciones iniciales son la evaluación de la función $P$ en cada punto de la malla, además es importante notar que:\n",
    "$$u(r,\\theta,t)=u(r,\\theta+2\\pi,t)$$\n",
    "de manera simplificada el las acciones a realizar son las siguientes:\n",
    "\n",
    "$a)$ se crea el programa que evalua $P$ sobre la malla y las señala como condición inicial y considera $f_{nj}$ constantes e iguales a $T_0$\n",
    "\n",
    "$b)$ ahora definimos la función $F$\n",
    "\n",
    "$c)$ finalmente aplicamos regla de recurrencia de euler considerando las condiciones seleccionadas en $a)$ y así nos devuelve pues una función $f(i,j,k)$ la cual nos devuelva la $k$-ésima iteración de la solución para $f_{ij}$\n",
    "\n",
    "$d)$ finalmente después de esto vamos a considerar el conjunto de gráficas en el plano (aplicando pcolormesh) con $k$ fija, la cual nos indicara la distribución de temperatura, la cual al juntar todas las gráficas nos dará una animación en el tiempo que nosotros demos.\n"
   ]
  },
  {
   "cell_type": "markdown",
   "metadata": {},
   "source": [
    "__Aplicación:__\n",
    "ahora procedemos pues a construir los pasos uno por uno en el programa:"
   ]
  },
  {
   "cell_type": "code",
   "execution_count": 1,
   "metadata": {},
   "outputs": [
    {
     "data": {
      "text/plain": [
       "calor (generic function with 1 method)"
      ]
     },
     "execution_count": 1,
     "metadata": {},
     "output_type": "execute_result"
    }
   ],
   "source": [
    "doc\"\"\"\n",
    "esta función soluciona la ecuación de calor (resultando una animación) en la región  $ 0\\leq r \\leq 10;0\\leq t\\leqt_0$\n",
    "con $k=1$ y las condicion de frontera e inicial:\n",
    " $$u(a,\\theta,t)=T_0$$\n",
    " $$u(r, \\theta,0)=P(r,\\theta)$$ \n",
    "donde $T_0$ es una constante,por favor introduzca la función $P$ verificando que $P(10,\\theta)=T_0$\n",
    "además indique un linspace del tiempo.\n",
    "\"\"\"\n",
    "function calor(g,listt)\n",
    "    l=length(listt)#la longitud de el linspace\n",
    "    L=listt[2]-listt[1]\n",
    "    b=linspace(0,2pi,21)\n",
    "    A=1/2#espaciamiento en r que induce la malla en r {A,2A,...,20A=10}\n",
    "    B=b[2]-b[1] #espaciamiento en theta que induce la malla en theta {B,2B,...,20B=2pi-algo}\n",
    "    x=zeros(20,20,l)#creamos un tensor de orden 3 que guarde r, theta y tiempo\n",
    "    for i in 1:20\n",
    "        for j in 1:20\n",
    "            x[i,j,1]=g(i*A,j*B)#esto nos define las condiciones iniciales\n",
    "        end\n",
    "    end\n",
    "    \n",
    "    for k in 1: l-1\n",
    "        for j in 1:20\n",
    "                x[20,j,k+1]=x[20,j,1]#señalamos que en la frontera no cambia en el tiempo\n",
    "        end\n",
    "    end\n",
    "    for k in 1:l-1\n",
    "        for i in 1:1# en este caso aplicamos derivada adelante\n",
    "            for j in 1:1#señalamos quien es el que le sigue al ultimo explicitamente, es decir señalamos el primero\n",
    "                x[i,j,k+1]=x[i,j,k]+L*((x[i+2,j,k]-2*x[i+1,j,k]+x[i,j,k])/(A^2)+(x[i+1,j,k]-x[i,j,k])/(2*i*A^2)+(x[i,2,k]\n",
    "                        -2*x[i,1,k]+x[i,20,k])/(i*A*i*A*j*j*B*B))\n",
    "                end\n",
    "            for j in 2:19\n",
    "                    x[i,j,k+1]=x[i,j,k]+L*((x[i+2,j,k]-2*x[i+1,j,k]+x[i,j,k])/(A^2)+(x[i+1,j,k]-x[i,j,k])/(2*i*A^2)+(x[i,j+1,k]\n",
    "                        -2*x[i,j,k]+x[i,j-1,k])/(i*A*i*A*j*j*B*B)) \n",
    "                end\n",
    "            for j in 20:20#analogo al primer paso en el ángulo\n",
    "                    x[i,j,k+1]=x[i,j,k]+L*((x[i+2,j,k]-2*x[i+1,j,k]+x[i,j,k])/(A^2)+(x[i+1,j,k]-x[i,j,k])/(2*i*A^2)+(x[i,1,k]\n",
    "                        -2*x[i,j,k]+x[i,j-1,k])/(i*A*i*A*j*j*B*B) )\n",
    "                end\n",
    "            end\n",
    "        for i in 2:19#en el caso que este despues del primero pero antes de la frontera aplicamos derivada simetrica\n",
    "            for j in 1:1#señalamos quien es el que le sigue al ultimo explicitamente, es decir señalamos el primero\n",
    "                x[i,j,k+1]=x[i,j,k]+L*((x[i+1,j,k]-2*x[i,j,k]+x[i-1,j,k])/(A^2)+(x[i+1,j,k]-x[i-1,j,k])/(2*i*A^2)+(x[i,2,k]\n",
    "                        -2*x[i,1,k]+x[i,20,k])/(i*A*i*A*j*j*B*B))\n",
    "                end\n",
    "            for j in 2:19\n",
    "                    x[i,j,k+1]=x[i,j,k]+L*((x[i+1,j,k]-2*x[i,j,k]+x[i-1,j,k])/(A^2)+(x[i+1,j,k]-x[i-1,j,k])/(2*i*A^2)+(x[i,j+1,k]\n",
    "                        -2*x[i,j,k]+x[i,j-1,k])/(i*A*i*A*j*j*B*B)) \n",
    "                end\n",
    "            for j in 20:20#analogo al primer paso en el ángulo\n",
    "                    x[i,j,k+1]=x[i,j,k]+L*((x[i+1,j,k]-2*x[i,j,k]+x[i-1,j,k])/(A^2)+(x[i+1,j,k]-x[i-1,j,k])/(2*i*A^2)+(x[i,1,k]\n",
    "                        -2*x[i,j,k]+x[i,j-1,k])/(i*A*i*A*j*j*B*B)) \n",
    "                end \n",
    "            end\n",
    "        end\n",
    "                            return x                   \n",
    "                        end"
   ]
  },
  {
   "cell_type": "code",
   "execution_count": 2,
   "metadata": {},
   "outputs": [
    {
     "data": {
      "text/plain": [
       "p (generic function with 1 method)"
      ]
     },
     "execution_count": 2,
     "metadata": {},
     "output_type": "execute_result"
    }
   ],
   "source": [
    "p(r,o)=e^(-r) #probamos para una distribucion inicial exponencial"
   ]
  },
  {
   "cell_type": "code",
   "execution_count": 52,
   "metadata": {
    "scrolled": true
   },
   "outputs": [
    {
     "data": {
      "text/plain": [
       "linspace(0.0,1.0,100)"
      ]
     },
     "execution_count": 52,
     "metadata": {},
     "output_type": "execute_result"
    }
   ],
   "source": [
    "t1=linspace(0,1,100) #damos un intervalo de tiempo"
   ]
  },
  {
   "cell_type": "code",
   "execution_count": 53,
   "metadata": {},
   "outputs": [
    {
     "data": {
      "text/plain": [
       "20x20x100 Array{Float64,3}:\n",
       "[:, :, 1] =\n",
       " 0.0  0.0  0.0  0.0  0.0  0.0  0.0  0.0  …  0.0  0.0  0.0  0.0  0.0  0.0  0.0\n",
       " 0.0  0.0  0.0  0.0  0.0  0.0  0.0  0.0     0.0  0.0  0.0  0.0  0.0  0.0  0.0\n",
       " 0.0  0.0  0.0  0.0  0.0  0.0  0.0  0.0     0.0  0.0  0.0  0.0  0.0  0.0  0.0\n",
       " 0.0  0.0  0.0  0.0  0.0  0.0  0.0  0.0     0.0  0.0  0.0  0.0  0.0  0.0  0.0\n",
       " 0.0  0.0  0.0  0.0  0.0  0.0  0.0  0.0     0.0  0.0  0.0  0.0  0.0  0.0  0.0\n",
       " 0.0  0.0  0.0  0.0  0.0  0.0  0.0  0.0  …  0.0  0.0  0.0  0.0  0.0  0.0  0.0\n",
       " 0.0  0.0  0.0  0.0  0.0  0.0  0.0  0.0     0.0  0.0  0.0  0.0  0.0  0.0  0.0\n",
       " 0.0  0.0  0.0  0.0  0.0  0.0  0.0  0.0     0.0  0.0  0.0  0.0  0.0  0.0  0.0\n",
       " 0.0  0.0  0.0  0.0  0.0  0.0  0.0  0.0     0.0  0.0  0.0  0.0  0.0  0.0  0.0\n",
       " 0.0  0.0  0.0  0.0  0.0  0.0  0.0  0.0     0.0  0.0  0.0  0.0  0.0  0.0  0.0\n",
       " 0.0  0.0  0.0  0.0  0.0  0.0  0.0  0.0  …  0.0  0.0  0.0  0.0  0.0  0.0  0.0\n",
       " 0.0  0.0  0.0  0.0  0.0  0.0  0.0  0.0     0.0  0.0  0.0  0.0  0.0  0.0  0.0\n",
       " 0.0  0.0  0.0  0.0  0.0  0.0  0.0  0.0     0.0  0.0  0.0  0.0  0.0  0.0  0.0\n",
       " 0.0  0.0  0.0  0.0  0.0  0.0  0.0  0.0     0.0  0.0  0.0  0.0  0.0  0.0  0.0\n",
       " 0.0  0.0  0.0  0.0  0.0  0.0  0.0  0.0     0.0  0.0  0.0  0.0  0.0  0.0  0.0\n",
       " 0.0  0.0  0.0  0.0  0.0  0.0  0.0  0.0  …  0.0  0.0  0.0  0.0  0.0  0.0  0.0\n",
       " 0.0  0.0  0.0  0.0  0.0  0.0  0.0  0.0     0.0  0.0  0.0  0.0  0.0  0.0  0.0\n",
       " 0.0  0.0  0.0  0.0  0.0  0.0  0.0  0.0     0.0  0.0  0.0  0.0  0.0  0.0  0.0\n",
       " 0.0  0.0  0.0  0.0  0.0  0.0  0.0  0.0     0.0  0.0  0.0  0.0  0.0  0.0  0.0\n",
       " 0.0  0.0  0.0  0.0  0.0  0.0  0.0  0.0     0.0  0.0  0.0  0.0  0.0  0.0  0.0\n",
       "\n",
       "[:, :, 2] =\n",
       " 0.0  0.0  0.0  0.0  0.0  0.0  0.0  0.0  …  0.0  0.0  0.0  0.0  0.0  0.0  0.0\n",
       " 0.0  0.0  0.0  0.0  0.0  0.0  0.0  0.0     0.0  0.0  0.0  0.0  0.0  0.0  0.0\n",
       " 0.0  0.0  0.0  0.0  0.0  0.0  0.0  0.0     0.0  0.0  0.0  0.0  0.0  0.0  0.0\n",
       " 0.0  0.0  0.0  0.0  0.0  0.0  0.0  0.0     0.0  0.0  0.0  0.0  0.0  0.0  0.0\n",
       " 0.0  0.0  0.0  0.0  0.0  0.0  0.0  0.0     0.0  0.0  0.0  0.0  0.0  0.0  0.0\n",
       " 0.0  0.0  0.0  0.0  0.0  0.0  0.0  0.0  …  0.0  0.0  0.0  0.0  0.0  0.0  0.0\n",
       " 0.0  0.0  0.0  0.0  0.0  0.0  0.0  0.0     0.0  0.0  0.0  0.0  0.0  0.0  0.0\n",
       " 0.0  0.0  0.0  0.0  0.0  0.0  0.0  0.0     0.0  0.0  0.0  0.0  0.0  0.0  0.0\n",
       " 0.0  0.0  0.0  0.0  0.0  0.0  0.0  0.0     0.0  0.0  0.0  0.0  0.0  0.0  0.0\n",
       " 0.0  0.0  0.0  0.0  0.0  0.0  0.0  0.0     0.0  0.0  0.0  0.0  0.0  0.0  0.0\n",
       " 0.0  0.0  0.0  0.0  0.0  0.0  0.0  0.0  …  0.0  0.0  0.0  0.0  0.0  0.0  0.0\n",
       " 0.0  0.0  0.0  0.0  0.0  0.0  0.0  0.0     0.0  0.0  0.0  0.0  0.0  0.0  0.0\n",
       " 0.0  0.0  0.0  0.0  0.0  0.0  0.0  0.0     0.0  0.0  0.0  0.0  0.0  0.0  0.0\n",
       " 0.0  0.0  0.0  0.0  0.0  0.0  0.0  0.0     0.0  0.0  0.0  0.0  0.0  0.0  0.0\n",
       " 0.0  0.0  0.0  0.0  0.0  0.0  0.0  0.0     0.0  0.0  0.0  0.0  0.0  0.0  0.0\n",
       " 0.0  0.0  0.0  0.0  0.0  0.0  0.0  0.0  …  0.0  0.0  0.0  0.0  0.0  0.0  0.0\n",
       " 0.0  0.0  0.0  0.0  0.0  0.0  0.0  0.0     0.0  0.0  0.0  0.0  0.0  0.0  0.0\n",
       " 0.0  0.0  0.0  0.0  0.0  0.0  0.0  0.0     0.0  0.0  0.0  0.0  0.0  0.0  0.0\n",
       " 0.0  0.0  0.0  0.0  0.0  0.0  0.0  0.0     0.0  0.0  0.0  0.0  0.0  0.0  0.0\n",
       " 0.0  0.0  0.0  0.0  0.0  0.0  0.0  0.0     0.0  0.0  0.0  0.0  0.0  0.0  0.0\n",
       "\n",
       "[:, :, 3] =\n",
       " 0.0  0.0  0.0  0.0  0.0  0.0  0.0  0.0  …  0.0  0.0  0.0  0.0  0.0  0.0  0.0\n",
       " 0.0  0.0  0.0  0.0  0.0  0.0  0.0  0.0     0.0  0.0  0.0  0.0  0.0  0.0  0.0\n",
       " 0.0  0.0  0.0  0.0  0.0  0.0  0.0  0.0     0.0  0.0  0.0  0.0  0.0  0.0  0.0\n",
       " 0.0  0.0  0.0  0.0  0.0  0.0  0.0  0.0     0.0  0.0  0.0  0.0  0.0  0.0  0.0\n",
       " 0.0  0.0  0.0  0.0  0.0  0.0  0.0  0.0     0.0  0.0  0.0  0.0  0.0  0.0  0.0\n",
       " 0.0  0.0  0.0  0.0  0.0  0.0  0.0  0.0  …  0.0  0.0  0.0  0.0  0.0  0.0  0.0\n",
       " 0.0  0.0  0.0  0.0  0.0  0.0  0.0  0.0     0.0  0.0  0.0  0.0  0.0  0.0  0.0\n",
       " 0.0  0.0  0.0  0.0  0.0  0.0  0.0  0.0     0.0  0.0  0.0  0.0  0.0  0.0  0.0\n",
       " 0.0  0.0  0.0  0.0  0.0  0.0  0.0  0.0     0.0  0.0  0.0  0.0  0.0  0.0  0.0\n",
       " 0.0  0.0  0.0  0.0  0.0  0.0  0.0  0.0     0.0  0.0  0.0  0.0  0.0  0.0  0.0\n",
       " 0.0  0.0  0.0  0.0  0.0  0.0  0.0  0.0  …  0.0  0.0  0.0  0.0  0.0  0.0  0.0\n",
       " 0.0  0.0  0.0  0.0  0.0  0.0  0.0  0.0     0.0  0.0  0.0  0.0  0.0  0.0  0.0\n",
       " 0.0  0.0  0.0  0.0  0.0  0.0  0.0  0.0     0.0  0.0  0.0  0.0  0.0  0.0  0.0\n",
       " 0.0  0.0  0.0  0.0  0.0  0.0  0.0  0.0     0.0  0.0  0.0  0.0  0.0  0.0  0.0\n",
       " 0.0  0.0  0.0  0.0  0.0  0.0  0.0  0.0     0.0  0.0  0.0  0.0  0.0  0.0  0.0\n",
       " 0.0  0.0  0.0  0.0  0.0  0.0  0.0  0.0  …  0.0  0.0  0.0  0.0  0.0  0.0  0.0\n",
       " 0.0  0.0  0.0  0.0  0.0  0.0  0.0  0.0     0.0  0.0  0.0  0.0  0.0  0.0  0.0\n",
       " 0.0  0.0  0.0  0.0  0.0  0.0  0.0  0.0     0.0  0.0  0.0  0.0  0.0  0.0  0.0\n",
       " 0.0  0.0  0.0  0.0  0.0  0.0  0.0  0.0     0.0  0.0  0.0  0.0  0.0  0.0  0.0\n",
       " 0.0  0.0  0.0  0.0  0.0  0.0  0.0  0.0     0.0  0.0  0.0  0.0  0.0  0.0  0.0\n",
       "\n",
       "...\n",
       "\n",
       "[:, :, 98] =\n",
       " 0.0  0.0  0.0  0.0  0.0  0.0  0.0  0.0  …  0.0  0.0  0.0  0.0  0.0  0.0  0.0\n",
       " 0.0  0.0  0.0  0.0  0.0  0.0  0.0  0.0     0.0  0.0  0.0  0.0  0.0  0.0  0.0\n",
       " 0.0  0.0  0.0  0.0  0.0  0.0  0.0  0.0     0.0  0.0  0.0  0.0  0.0  0.0  0.0\n",
       " 0.0  0.0  0.0  0.0  0.0  0.0  0.0  0.0     0.0  0.0  0.0  0.0  0.0  0.0  0.0\n",
       " 0.0  0.0  0.0  0.0  0.0  0.0  0.0  0.0     0.0  0.0  0.0  0.0  0.0  0.0  0.0\n",
       " 0.0  0.0  0.0  0.0  0.0  0.0  0.0  0.0  …  0.0  0.0  0.0  0.0  0.0  0.0  0.0\n",
       " 0.0  0.0  0.0  0.0  0.0  0.0  0.0  0.0     0.0  0.0  0.0  0.0  0.0  0.0  0.0\n",
       " 0.0  0.0  0.0  0.0  0.0  0.0  0.0  0.0     0.0  0.0  0.0  0.0  0.0  0.0  0.0\n",
       " 0.0  0.0  0.0  0.0  0.0  0.0  0.0  0.0     0.0  0.0  0.0  0.0  0.0  0.0  0.0\n",
       " 0.0  0.0  0.0  0.0  0.0  0.0  0.0  0.0     0.0  0.0  0.0  0.0  0.0  0.0  0.0\n",
       " 0.0  0.0  0.0  0.0  0.0  0.0  0.0  0.0  …  0.0  0.0  0.0  0.0  0.0  0.0  0.0\n",
       " 0.0  0.0  0.0  0.0  0.0  0.0  0.0  0.0     0.0  0.0  0.0  0.0  0.0  0.0  0.0\n",
       " 0.0  0.0  0.0  0.0  0.0  0.0  0.0  0.0     0.0  0.0  0.0  0.0  0.0  0.0  0.0\n",
       " 0.0  0.0  0.0  0.0  0.0  0.0  0.0  0.0     0.0  0.0  0.0  0.0  0.0  0.0  0.0\n",
       " 0.0  0.0  0.0  0.0  0.0  0.0  0.0  0.0     0.0  0.0  0.0  0.0  0.0  0.0  0.0\n",
       " 0.0  0.0  0.0  0.0  0.0  0.0  0.0  0.0  …  0.0  0.0  0.0  0.0  0.0  0.0  0.0\n",
       " 0.0  0.0  0.0  0.0  0.0  0.0  0.0  0.0     0.0  0.0  0.0  0.0  0.0  0.0  0.0\n",
       " 0.0  0.0  0.0  0.0  0.0  0.0  0.0  0.0     0.0  0.0  0.0  0.0  0.0  0.0  0.0\n",
       " 0.0  0.0  0.0  0.0  0.0  0.0  0.0  0.0     0.0  0.0  0.0  0.0  0.0  0.0  0.0\n",
       " 0.0  0.0  0.0  0.0  0.0  0.0  0.0  0.0     0.0  0.0  0.0  0.0  0.0  0.0  0.0\n",
       "\n",
       "[:, :, 99] =\n",
       " 0.0  0.0  0.0  0.0  0.0  0.0  0.0  0.0  …  0.0  0.0  0.0  0.0  0.0  0.0  0.0\n",
       " 0.0  0.0  0.0  0.0  0.0  0.0  0.0  0.0     0.0  0.0  0.0  0.0  0.0  0.0  0.0\n",
       " 0.0  0.0  0.0  0.0  0.0  0.0  0.0  0.0     0.0  0.0  0.0  0.0  0.0  0.0  0.0\n",
       " 0.0  0.0  0.0  0.0  0.0  0.0  0.0  0.0     0.0  0.0  0.0  0.0  0.0  0.0  0.0\n",
       " 0.0  0.0  0.0  0.0  0.0  0.0  0.0  0.0     0.0  0.0  0.0  0.0  0.0  0.0  0.0\n",
       " 0.0  0.0  0.0  0.0  0.0  0.0  0.0  0.0  …  0.0  0.0  0.0  0.0  0.0  0.0  0.0\n",
       " 0.0  0.0  0.0  0.0  0.0  0.0  0.0  0.0     0.0  0.0  0.0  0.0  0.0  0.0  0.0\n",
       " 0.0  0.0  0.0  0.0  0.0  0.0  0.0  0.0     0.0  0.0  0.0  0.0  0.0  0.0  0.0\n",
       " 0.0  0.0  0.0  0.0  0.0  0.0  0.0  0.0     0.0  0.0  0.0  0.0  0.0  0.0  0.0\n",
       " 0.0  0.0  0.0  0.0  0.0  0.0  0.0  0.0     0.0  0.0  0.0  0.0  0.0  0.0  0.0\n",
       " 0.0  0.0  0.0  0.0  0.0  0.0  0.0  0.0  …  0.0  0.0  0.0  0.0  0.0  0.0  0.0\n",
       " 0.0  0.0  0.0  0.0  0.0  0.0  0.0  0.0     0.0  0.0  0.0  0.0  0.0  0.0  0.0\n",
       " 0.0  0.0  0.0  0.0  0.0  0.0  0.0  0.0     0.0  0.0  0.0  0.0  0.0  0.0  0.0\n",
       " 0.0  0.0  0.0  0.0  0.0  0.0  0.0  0.0     0.0  0.0  0.0  0.0  0.0  0.0  0.0\n",
       " 0.0  0.0  0.0  0.0  0.0  0.0  0.0  0.0     0.0  0.0  0.0  0.0  0.0  0.0  0.0\n",
       " 0.0  0.0  0.0  0.0  0.0  0.0  0.0  0.0  …  0.0  0.0  0.0  0.0  0.0  0.0  0.0\n",
       " 0.0  0.0  0.0  0.0  0.0  0.0  0.0  0.0     0.0  0.0  0.0  0.0  0.0  0.0  0.0\n",
       " 0.0  0.0  0.0  0.0  0.0  0.0  0.0  0.0     0.0  0.0  0.0  0.0  0.0  0.0  0.0\n",
       " 0.0  0.0  0.0  0.0  0.0  0.0  0.0  0.0     0.0  0.0  0.0  0.0  0.0  0.0  0.0\n",
       " 0.0  0.0  0.0  0.0  0.0  0.0  0.0  0.0     0.0  0.0  0.0  0.0  0.0  0.0  0.0\n",
       "\n",
       "[:, :, 100] =\n",
       " 0.0  0.0  0.0  0.0  0.0  0.0  0.0  0.0  …  0.0  0.0  0.0  0.0  0.0  0.0  0.0\n",
       " 0.0  0.0  0.0  0.0  0.0  0.0  0.0  0.0     0.0  0.0  0.0  0.0  0.0  0.0  0.0\n",
       " 0.0  0.0  0.0  0.0  0.0  0.0  0.0  0.0     0.0  0.0  0.0  0.0  0.0  0.0  0.0\n",
       " 0.0  0.0  0.0  0.0  0.0  0.0  0.0  0.0     0.0  0.0  0.0  0.0  0.0  0.0  0.0\n",
       " 0.0  0.0  0.0  0.0  0.0  0.0  0.0  0.0     0.0  0.0  0.0  0.0  0.0  0.0  0.0\n",
       " 0.0  0.0  0.0  0.0  0.0  0.0  0.0  0.0  …  0.0  0.0  0.0  0.0  0.0  0.0  0.0\n",
       " 0.0  0.0  0.0  0.0  0.0  0.0  0.0  0.0     0.0  0.0  0.0  0.0  0.0  0.0  0.0\n",
       " 0.0  0.0  0.0  0.0  0.0  0.0  0.0  0.0     0.0  0.0  0.0  0.0  0.0  0.0  0.0\n",
       " 0.0  0.0  0.0  0.0  0.0  0.0  0.0  0.0     0.0  0.0  0.0  0.0  0.0  0.0  0.0\n",
       " 0.0  0.0  0.0  0.0  0.0  0.0  0.0  0.0     0.0  0.0  0.0  0.0  0.0  0.0  0.0\n",
       " 0.0  0.0  0.0  0.0  0.0  0.0  0.0  0.0  …  0.0  0.0  0.0  0.0  0.0  0.0  0.0\n",
       " 0.0  0.0  0.0  0.0  0.0  0.0  0.0  0.0     0.0  0.0  0.0  0.0  0.0  0.0  0.0\n",
       " 0.0  0.0  0.0  0.0  0.0  0.0  0.0  0.0     0.0  0.0  0.0  0.0  0.0  0.0  0.0\n",
       " 0.0  0.0  0.0  0.0  0.0  0.0  0.0  0.0     0.0  0.0  0.0  0.0  0.0  0.0  0.0\n",
       " 0.0  0.0  0.0  0.0  0.0  0.0  0.0  0.0     0.0  0.0  0.0  0.0  0.0  0.0  0.0\n",
       " 0.0  0.0  0.0  0.0  0.0  0.0  0.0  0.0  …  0.0  0.0  0.0  0.0  0.0  0.0  0.0\n",
       " 0.0  0.0  0.0  0.0  0.0  0.0  0.0  0.0     0.0  0.0  0.0  0.0  0.0  0.0  0.0\n",
       " 0.0  0.0  0.0  0.0  0.0  0.0  0.0  0.0     0.0  0.0  0.0  0.0  0.0  0.0  0.0\n",
       " 0.0  0.0  0.0  0.0  0.0  0.0  0.0  0.0     0.0  0.0  0.0  0.0  0.0  0.0  0.0\n",
       " 0.0  0.0  0.0  0.0  0.0  0.0  0.0  0.0     0.0  0.0  0.0  0.0  0.0  0.0  0.0"
      ]
     },
     "execution_count": 53,
     "metadata": {},
     "output_type": "execute_result"
    }
   ],
   "source": [
    "u=zeros(20,20,100) #definimos una matriz inicial de ceros"
   ]
  },
  {
   "cell_type": "code",
   "execution_count": 65,
   "metadata": {},
   "outputs": [],
   "source": [
    "using PyPlot"
   ]
  },
  {
   "cell_type": "code",
   "execution_count": 54,
   "metadata": {},
   "outputs": [
    {
     "data": {
      "text/plain": [
       "20x20x100 Array{Float64,3}:\n",
       "[:, :, 1] =\n",
       " 0.606531     0.606531     0.606531     …  0.606531     0.606531   \n",
       " 0.367879     0.367879     0.367879        0.367879     0.367879   \n",
       " 0.22313      0.22313      0.22313         0.22313      0.22313    \n",
       " 0.135335     0.135335     0.135335        0.135335     0.135335   \n",
       " 0.082085     0.082085     0.082085        0.082085     0.082085   \n",
       " 0.0497871    0.0497871    0.0497871    …  0.0497871    0.0497871  \n",
       " 0.0301974    0.0301974    0.0301974       0.0301974    0.0301974  \n",
       " 0.0183156    0.0183156    0.0183156       0.0183156    0.0183156  \n",
       " 0.011109     0.011109     0.011109        0.011109     0.011109   \n",
       " 0.00673795   0.00673795   0.00673795      0.00673795   0.00673795 \n",
       " 0.00408677   0.00408677   0.00408677   …  0.00408677   0.00408677 \n",
       " 0.00247875   0.00247875   0.00247875      0.00247875   0.00247875 \n",
       " 0.00150344   0.00150344   0.00150344      0.00150344   0.00150344 \n",
       " 0.000911882  0.000911882  0.000911882     0.000911882  0.000911882\n",
       " 0.000553084  0.000553084  0.000553084     0.000553084  0.000553084\n",
       " 0.000335463  0.000335463  0.000335463  …  0.000335463  0.000335463\n",
       " 0.000203468  0.000203468  0.000203468     0.000203468  0.000203468\n",
       " 0.00012341   0.00012341   0.00012341      0.00012341   0.00012341 \n",
       " 7.48518e-5   7.48518e-5   7.48518e-5      7.48518e-5   7.48518e-5 \n",
       " 4.53999e-5   4.53999e-5   4.53999e-5      4.53999e-5   4.53999e-5 \n",
       "\n",
       "[:, :, 2] =\n",
       " 0.605503     0.605503     0.605503     …  0.605503     0.605503   \n",
       " 0.367801     0.367801     0.367801        0.367801     0.367801   \n",
       " 0.223865     0.223865     0.223865        0.223865     0.223865   \n",
       " 0.136019     0.136019     0.136019        0.136019     0.136019   \n",
       " 0.0825859    0.0825859    0.0825859       0.0825859    0.0825859  \n",
       " 0.0501258    0.0501258    0.0501258    …  0.0501258    0.0501258  \n",
       " 0.030418     0.030418     0.030418        0.030418     0.030418   \n",
       " 0.0184563    0.0184563    0.0184563       0.0184563    0.0184563  \n",
       " 0.0111976    0.0111976    0.0111976       0.0111976    0.0111976  \n",
       " 0.00679325   0.00679325   0.00679325      0.00679325   0.00679325 \n",
       " 0.0041211    0.0041211    0.0041211    …  0.0041211    0.0041211  \n",
       " 0.00249997   0.00249997   0.00249997      0.00249997   0.00249997 \n",
       " 0.00151651   0.00151651   0.00151651      0.00151651   0.00151651 \n",
       " 0.000919915  0.000919915  0.000919915     0.000919915  0.000919915\n",
       " 0.000558012  0.000558012  0.000558012     0.000558012  0.000558012\n",
       " 0.000338481  0.000338481  0.000338481  …  0.000338481  0.000338481\n",
       " 0.000205315  0.000205315  0.000205315     0.000205315  0.000205315\n",
       " 0.000124538  0.000124538  0.000124538     0.000124538  0.000124538\n",
       " 7.55408e-5   7.55408e-5   7.55408e-5      7.55408e-5   7.55408e-5 \n",
       " 4.53999e-5   4.53999e-5   4.53999e-5      4.53999e-5   4.53999e-5 \n",
       "\n",
       "[:, :, 3] =\n",
       " 0.60449      0.60449      0.60449      …  0.60449      0.60449    \n",
       " 0.367734     0.367734     0.367734        0.367734     0.367734   \n",
       " 0.224571     0.224571     0.224571        0.224571     0.224571   \n",
       " 0.136696     0.136696     0.136696        0.136696     0.136696   \n",
       " 0.0830862    0.0830862    0.0830862       0.0830862    0.0830862  \n",
       " 0.0504654    0.0504654    0.0504654    …  0.0504654    0.0504654  \n",
       " 0.0306396    0.0306396    0.0306396       0.0306396    0.0306396  \n",
       " 0.0185978    0.0185978    0.0185978       0.0185978    0.0185978  \n",
       " 0.0112867    0.0112867    0.0112867       0.0112867    0.0112867  \n",
       " 0.00684894   0.00684894   0.00684894      0.00684894   0.00684894 \n",
       " 0.00415568   0.00415568   0.00415568   …  0.00415568   0.00415568 \n",
       " 0.00252135   0.00252135   0.00252135      0.00252135   0.00252135 \n",
       " 0.00152968   0.00152968   0.00152968      0.00152968   0.00152968 \n",
       " 0.000928014  0.000928014  0.000928014     0.000928014  0.000928014\n",
       " 0.000562981  0.000562981  0.000562981     0.000562981  0.000562981\n",
       " 0.000341525  0.000341525  0.000341525  …  0.000341525  0.000341525\n",
       " 0.000207177  0.000207177  0.000207177     0.000207177  0.000207177\n",
       " 0.000125677  0.000125677  0.000125677     0.000125677  0.000125677\n",
       " 7.62186e-5   7.62186e-5   7.62186e-5      7.62186e-5   7.62186e-5 \n",
       " 4.53999e-5   4.53999e-5   4.53999e-5      4.53999e-5   4.53999e-5 \n",
       "\n",
       "...\n",
       "\n",
       "[:, :, 98] =\n",
       " 0.51585      0.51585      0.51585      …  0.51585      0.51585    \n",
       " 0.351884     0.351884     0.351884        0.351884     0.351884   \n",
       " 0.247294     0.247294     0.247294        0.247294     0.247294   \n",
       " 0.172772     0.172772     0.172772        0.172772     0.172772   \n",
       " 0.118708     0.118708     0.118708        0.118708     0.118708   \n",
       " 0.0799708    0.0799708    0.0799708    …  0.0799708    0.0799708  \n",
       " 0.0528433    0.0528433    0.0528433       0.0528433    0.0528433  \n",
       " 0.0343195    0.0343195    0.0343195       0.0343195    0.0343195  \n",
       " 0.021967     0.021967     0.021967        0.021967     0.021967   \n",
       " 0.013897     0.013897     0.013897        0.013897     0.013897   \n",
       " 0.00871224   0.00871224   0.00871224   …  0.00871224   0.00871224 \n",
       " 0.00542431   0.00542431   0.00542431      0.00542431   0.00542431 \n",
       " 0.00335974   0.00335974   0.00335974      0.00335974   0.00335974 \n",
       " 0.00207265   0.00207265   0.00207265      0.00207265   0.00207265 \n",
       " 0.00127413   0.00127413   0.00127413      0.00127413   0.00127413 \n",
       " 0.000779647  0.000779647  0.000779647  …  0.000779647  0.000779647\n",
       " 0.00047215   0.00047215   0.00047215      0.00047215   0.00047215 \n",
       " 0.000277109  0.000277109  0.000277109     0.000277109  0.000277109\n",
       " 0.000145995  0.000145995  0.000145995     0.000145995  0.000145995\n",
       " 4.53999e-5   4.53999e-5   4.53999e-5      4.53999e-5   4.53999e-5 \n",
       "\n",
       "[:, :, 99] =\n",
       " 0.514936     0.514936     0.514936     …  0.514936     0.514936   \n",
       " 0.35157      0.35157      0.35157         0.35157      0.35157    \n",
       " 0.247303     0.247303     0.247303        0.247303     0.247303   \n",
       " 0.172949     0.172949     0.172949        0.172949     0.172949   \n",
       " 0.118953     0.118953     0.118953        0.118953     0.118953   \n",
       " 0.0802181    0.0802181    0.0802181    …  0.0802181    0.0802181  \n",
       " 0.0530592    0.0530592    0.0530592       0.0530592    0.0530592  \n",
       " 0.0344908    0.0344908    0.0344908       0.0344908    0.0344908  \n",
       " 0.0220942    0.0220942    0.0220942       0.0220942    0.0220942  \n",
       " 0.0139868    0.0139868    0.0139868       0.0139868    0.0139868  \n",
       " 0.00877332   0.00877332   0.00877332   …  0.00877332   0.00877332 \n",
       " 0.00546473   0.00546473   0.00546473      0.00546473   0.00546473 \n",
       " 0.00338594   0.00338594   0.00338594      0.00338594   0.00338594 \n",
       " 0.00208938   0.00208938   0.00208938      0.00208938   0.00208938 \n",
       " 0.00128467   0.00128467   0.00128467      0.00128467   0.00128467 \n",
       " 0.00078619   0.00078619   0.00078619   …  0.00078619   0.00078619 \n",
       " 0.000476097  0.000476097  0.000476097     0.000476097  0.000476097\n",
       " 0.000279325  0.000279325  0.000279325     0.000279325  0.000279325\n",
       " 0.000146981  0.000146981  0.000146981     0.000146981  0.000146981\n",
       " 4.53999e-5   4.53999e-5   4.53999e-5      4.53999e-5   4.53999e-5 \n",
       "\n",
       "[:, :, 100] =\n",
       " 0.514024     0.514024     0.514024     …  0.514024     0.514024   \n",
       " 0.351255     0.351255     0.351255        0.351255     0.351255   \n",
       " 0.247308     0.247308     0.247308        0.247308     0.247308   \n",
       " 0.173123     0.173123     0.173123        0.173123     0.173123   \n",
       " 0.119195     0.119195     0.119195        0.119195     0.119195   \n",
       " 0.0804639    0.0804639    0.0804639    …  0.0804639    0.0804639  \n",
       " 0.0532743    0.0532743    0.0532743       0.0532743    0.0532743  \n",
       " 0.034662     0.034662     0.034662        0.034662     0.034662   \n",
       " 0.0222215    0.0222215    0.0222215       0.0222215    0.0222215  \n",
       " 0.0140769    0.0140769    0.0140769       0.0140769    0.0140769  \n",
       " 0.00883464   0.00883464   0.00883464   …  0.00883464   0.00883464 \n",
       " 0.00550535   0.00550535   0.00550535      0.00550535   0.00550535 \n",
       " 0.0034123    0.0034123    0.0034123       0.0034123    0.0034123  \n",
       " 0.00210622   0.00210622   0.00210622      0.00210622   0.00210622 \n",
       " 0.00129529   0.00129529   0.00129529      0.00129529   0.00129529 \n",
       " 0.000792781  0.000792781  0.000792781  …  0.000792781  0.000792781\n",
       " 0.000480073  0.000480073  0.000480073     0.000480073  0.000480073\n",
       " 0.000281559  0.000281559  0.000281559     0.000281559  0.000281559\n",
       " 0.000147976  0.000147976  0.000147976     0.000147976  0.000147976\n",
       " 4.53999e-5   4.53999e-5   4.53999e-5      4.53999e-5   4.53999e-5 "
      ]
     },
     "execution_count": 54,
     "metadata": {},
     "output_type": "execute_result"
    }
   ],
   "source": [
    "calor(p,t1) #resolvemos la ecuacion de calor con nuestra distribucion inicial"
   ]
  },
  {
   "cell_type": "code",
   "execution_count": 69,
   "metadata": {
    "scrolled": false
   },
   "outputs": [
    {
     "data": {
      "image/png": "[encoded data removed]",
      "text/plain": [
       "PyPlot.Figure(PyObject <matplotlib.figure.Figure object at 0x7f6bc333add0>)"
      ]
     },
     "metadata": {},
     "output_type": "display_data"
    },
    {
     "data": {
      "text/plain": [
       "PyObject <matplotlib.collections.QuadMesh object at 0x7f6bc32c0310>"
      ]
     },
     "execution_count": 69,
     "metadata": {},
     "output_type": "execute_result"
    }
   ],
   "source": [
    "pcolormesh(calor(p,t1)[:, :, 1])"
   ]
  },
  {
   "cell_type": "code",
   "execution_count": 70,
   "metadata": {},
   "outputs": [
    {
     "data": {
      "image/png": "[encoded data removed]",
      "text/plain": [
       "PyPlot.Figure(PyObject <matplotlib.figure.Figure object at 0x7f6bc3277d50>)"
      ]
     },
     "metadata": {},
     "output_type": "display_data"
    },
    {
     "data": {
      "text/plain": [
       "PyObject <matplotlib.collections.QuadMesh object at 0x7f6bc31f9990>"
      ]
     },
     "execution_count": 70,
     "metadata": {},
     "output_type": "execute_result"
    }
   ],
   "source": [
    "pcolormesh(calor(p,t1)[:, :, 100])"
   ]
  },
  {
   "cell_type": "code",
   "execution_count": 71,
   "metadata": {},
   "outputs": [],
   "source": [
    "#sin embargo las graficas no tienen una gran diferencia debido a la pequeña diferencia que hay entre un punto a cierto timepo y el tiempo siguiente"
   ]
  },
  {
   "cell_type": "code",
   "execution_count": 74,
   "metadata": {},
   "outputs": [
    {
     "data": {
      "text/plain": [
       "q (generic function with 1 method)"
      ]
     },
     "execution_count": 74,
     "metadata": {},
     "output_type": "execute_result"
    }
   ],
   "source": [
    "q(r,s)= 2r #usamos otra distribucion"
   ]
  },
  {
   "cell_type": "code",
   "execution_count": 75,
   "metadata": {
    "scrolled": true
   },
   "outputs": [
    {
     "data": {
      "text/plain": [
       "20x20x100 Array{Float64,3}:\n",
       "[:, :, 1] =\n",
       "  1.0   1.0   1.0   1.0   1.0   1.0  …   1.0   1.0   1.0   1.0   1.0   1.0\n",
       "  2.0   2.0   2.0   2.0   2.0   2.0      2.0   2.0   2.0   2.0   2.0   2.0\n",
       "  3.0   3.0   3.0   3.0   3.0   3.0      3.0   3.0   3.0   3.0   3.0   3.0\n",
       "  4.0   4.0   4.0   4.0   4.0   4.0      4.0   4.0   4.0   4.0   4.0   4.0\n",
       "  5.0   5.0   5.0   5.0   5.0   5.0      5.0   5.0   5.0   5.0   5.0   5.0\n",
       "  6.0   6.0   6.0   6.0   6.0   6.0  …   6.0   6.0   6.0   6.0   6.0   6.0\n",
       "  7.0   7.0   7.0   7.0   7.0   7.0      7.0   7.0   7.0   7.0   7.0   7.0\n",
       "  8.0   8.0   8.0   8.0   8.0   8.0      8.0   8.0   8.0   8.0   8.0   8.0\n",
       "  9.0   9.0   9.0   9.0   9.0   9.0      9.0   9.0   9.0   9.0   9.0   9.0\n",
       " 10.0  10.0  10.0  10.0  10.0  10.0     10.0  10.0  10.0  10.0  10.0  10.0\n",
       " 11.0  11.0  11.0  11.0  11.0  11.0  …  11.0  11.0  11.0  11.0  11.0  11.0\n",
       " 12.0  12.0  12.0  12.0  12.0  12.0     12.0  12.0  12.0  12.0  12.0  12.0\n",
       " 13.0  13.0  13.0  13.0  13.0  13.0     13.0  13.0  13.0  13.0  13.0  13.0\n",
       " 14.0  14.0  14.0  14.0  14.0  14.0     14.0  14.0  14.0  14.0  14.0  14.0\n",
       " 15.0  15.0  15.0  15.0  15.0  15.0     15.0  15.0  15.0  15.0  15.0  15.0\n",
       " 16.0  16.0  16.0  16.0  16.0  16.0  …  16.0  16.0  16.0  16.0  16.0  16.0\n",
       " 17.0  17.0  17.0  17.0  17.0  17.0     17.0  17.0  17.0  17.0  17.0  17.0\n",
       " 18.0  18.0  18.0  18.0  18.0  18.0     18.0  18.0  18.0  18.0  18.0  18.0\n",
       " 19.0  19.0  19.0  19.0  19.0  19.0     19.0  19.0  19.0  19.0  19.0  19.0\n",
       " 20.0  20.0  20.0  20.0  20.0  20.0     20.0  20.0  20.0  20.0  20.0  20.0\n",
       "\n",
       "[:, :, 2] =\n",
       "  1.0202    1.0202    1.0202    1.0202   …   1.0202    1.0202    1.0202 \n",
       "  2.0202    2.0202    2.0202    2.0202       2.0202    2.0202    2.0202 \n",
       "  3.01347   3.01347   3.01347   3.01347      3.01347   3.01347   3.01347\n",
       "  4.0101    4.0101    4.0101    4.0101       4.0101    4.0101    4.0101 \n",
       "  5.00808   5.00808   5.00808   5.00808      5.00808   5.00808   5.00808\n",
       "  6.00673   6.00673   6.00673   6.00673  …   6.00673   6.00673   6.00673\n",
       "  7.00577   7.00577   7.00577   7.00577      7.00577   7.00577   7.00577\n",
       "  8.00505   8.00505   8.00505   8.00505      8.00505   8.00505   8.00505\n",
       "  9.00449   9.00449   9.00449   9.00449      9.00449   9.00449   9.00449\n",
       " 10.004    10.004    10.004    10.004       10.004    10.004    10.004  \n",
       " 11.0037   11.0037   11.0037   11.0037   …  11.0037   11.0037   11.0037 \n",
       " 12.0034   12.0034   12.0034   12.0034      12.0034   12.0034   12.0034 \n",
       " 13.0031   13.0031   13.0031   13.0031      13.0031   13.0031   13.0031 \n",
       " 14.0029   14.0029   14.0029   14.0029      14.0029   14.0029   14.0029 \n",
       " 15.0027   15.0027   15.0027   15.0027      15.0027   15.0027   15.0027 \n",
       " 16.0025   16.0025   16.0025   16.0025   …  16.0025   16.0025   16.0025 \n",
       " 17.0024   17.0024   17.0024   17.0024      17.0024   17.0024   17.0024 \n",
       " 18.0022   18.0022   18.0022   18.0022      18.0022   18.0022   18.0022 \n",
       " 19.0021   19.0021   19.0021   19.0021      19.0021   19.0021   19.0021 \n",
       " 20.0      20.0      20.0      20.0         20.0      20.0      20.0    \n",
       "\n",
       "[:, :, 3] =\n",
       "  1.04013   1.04013   1.04013   1.04013  …   1.04013   1.04013   1.04013\n",
       "  2.04006   2.04006   2.04006   2.04006      2.04006   2.04006   2.04006\n",
       "  3.027     3.027     3.027     3.027        3.027     3.027     3.027  \n",
       "  4.02023   4.02023   4.02023   4.02023      4.02023   4.02023   4.02023\n",
       "  5.01618   5.01618   5.01618   5.01618      5.01618   5.01618   5.01618\n",
       "  6.01348   6.01348   6.01348   6.01348  …   6.01348   6.01348   6.01348\n",
       "  7.01155   7.01155   7.01155   7.01155      7.01155   7.01155   7.01155\n",
       "  8.0101    8.0101    8.0101    8.0101       8.0101    8.0101    8.0101 \n",
       "  9.00898   9.00898   9.00898   9.00898      9.00898   9.00898   9.00898\n",
       " 10.0081   10.0081   10.0081   10.0081      10.0081   10.0081   10.0081 \n",
       " 11.0073   11.0073   11.0073   11.0073   …  11.0073   11.0073   11.0073 \n",
       " 12.0067   12.0067   12.0067   12.0067      12.0067   12.0067   12.0067 \n",
       " 13.0062   13.0062   13.0062   13.0062      13.0062   13.0062   13.0062 \n",
       " 14.0058   14.0058   14.0058   14.0058      14.0058   14.0058   14.0058 \n",
       " 15.0054   15.0054   15.0054   15.0054      15.0054   15.0054   15.0054 \n",
       " 16.0051   16.0051   16.0051   16.0051   …  16.0051   16.0051   16.0051 \n",
       " 17.0048   17.0048   17.0048   17.0048      17.0048   17.0048   17.0048 \n",
       " 18.0045   18.0045   18.0045   18.0045      18.0045   18.0045   18.0045 \n",
       " 19.0042   19.0042   19.0042   19.0042      19.0042   19.0042   19.0042 \n",
       " 20.0      20.0      20.0      20.0         20.0      20.0      20.0    \n",
       "\n",
       "...\n",
       "\n",
       "[:, :, 98] =\n",
       "  2.50503   2.50503   2.50503   2.50503  …   2.50503   2.50503   2.50503\n",
       "  3.41062   3.41062   3.41062   3.41062      3.41062   3.41062   3.41062\n",
       "  4.19529   4.19529   4.19529   4.19529      4.19529   4.19529   4.19529\n",
       "  4.98833   4.98833   4.98833   4.98833      4.98833   4.98833   4.98833\n",
       "  5.81784   5.81784   5.81784   5.81784      5.81784   5.81784   5.81784\n",
       "  6.6853    6.6853    6.6853    6.6853   …   6.6853    6.6853    6.6853 \n",
       "  7.58434   7.58434   7.58434   7.58434      7.58434   7.58434   7.58434\n",
       "  8.50734   8.50734   8.50734   8.50734      8.50734   8.50734   8.50734\n",
       "  9.44777   9.44777   9.44777   9.44777      9.44777   9.44777   9.44777\n",
       " 10.4007   10.4007   10.4007   10.4007      10.4007   10.4007   10.4007 \n",
       " 11.3627   11.3627   11.3627   11.3627   …  11.3627   11.3627   11.3627 \n",
       " 12.3312   12.3312   12.3312   12.3312      12.3312   12.3312   12.3312 \n",
       " 13.3045   13.3045   13.3045   13.3045      13.3045   13.3045   13.3045 \n",
       " 14.2808   14.2808   14.2808   14.2808      14.2808   14.2808   14.2808 \n",
       " 15.2583   15.2583   15.2583   15.2583      15.2583   15.2583   15.2583 \n",
       " 16.2341   16.2341   16.2341   16.2341   …  16.2341   16.2341   16.2341 \n",
       " 17.2039   17.2039   17.2039   17.2039      17.2039   17.2039   17.2039 \n",
       " 18.1611   18.1611   18.1611   18.1611      18.1611   18.1611   18.1611 \n",
       " 19.0968   19.0968   19.0968   19.0968      19.0968   19.0968   19.0968 \n",
       " 20.0      20.0      20.0      20.0         20.0      20.0      20.0    \n",
       "\n",
       "[:, :, 99] =\n",
       "  2.51844   2.51844   2.51844   2.51844  …   2.51844   2.51844   2.51844\n",
       "  3.42281   3.42281   3.42281   3.42281      3.42281   3.42281   3.42281\n",
       "  4.20625   4.20625   4.20625   4.20625      4.20625   4.20625   4.20625\n",
       "  4.998     4.998     4.998     4.998        4.998     4.998     4.998  \n",
       "  5.82623   5.82623   5.82623   5.82623      5.82623   5.82623   5.82623\n",
       "  6.69252   6.69252   6.69252   6.69252  …   6.69252   6.69252   6.69252\n",
       "  7.59057   7.59057   7.59057   7.59057      7.59057   7.59057   7.59057\n",
       "  8.51275   8.51275   8.51275   8.51275      8.51275   8.51275   8.51275\n",
       "  9.45252   9.45252   9.45252   9.45252      9.45252   9.45252   9.45252\n",
       " 10.4049   10.4049   10.4049   10.4049      10.4049   10.4049   10.4049 \n",
       " 11.3665   11.3665   11.3665   11.3665   …  11.3665   11.3665   11.3665 \n",
       " 12.3347   12.3347   12.3347   12.3347      12.3347   12.3347   12.3347 \n",
       " 13.3076   13.3076   13.3076   13.3076      13.3076   13.3076   13.3076 \n",
       " 14.2837   14.2837   14.2837   14.2837      14.2837   14.2837   14.2837 \n",
       " 15.2609   15.2609   15.2609   15.2609      15.2609   15.2609   15.2609 \n",
       " 16.2364   16.2364   16.2364   16.2364   …  16.2364   16.2364   16.2364 \n",
       " 17.2057   17.2057   17.2057   17.2057      17.2057   17.2057   17.2057 \n",
       " 18.1624   18.1624   18.1624   18.1624      18.1624   18.1624   18.1624 \n",
       " 19.0974   19.0974   19.0974   19.0974      19.0974   19.0974   19.0974 \n",
       " 20.0      20.0      20.0      20.0         20.0      20.0      20.0    \n",
       "\n",
       "[:, :, 100] =\n",
       "  2.53182   2.53182   2.53182   2.53182  …   2.53182   2.53182   2.53182\n",
       "  3.43497   3.43497   3.43497   3.43497      3.43497   3.43497   3.43497\n",
       "  4.2172    4.2172    4.2172    4.2172       4.2172    4.2172    4.2172 \n",
       "  5.00766   5.00766   5.00766   5.00766      5.00766   5.00766   5.00766\n",
       "  5.83461   5.83461   5.83461   5.83461      5.83461   5.83461   5.83461\n",
       "  6.69975   6.69975   6.69975   6.69975  …   6.69975   6.69975   6.69975\n",
       "  7.5968    7.5968    7.5968    7.5968       7.5968    7.5968    7.5968 \n",
       "  8.51816   8.51816   8.51816   8.51816      8.51816   8.51816   8.51816\n",
       "  9.45728   9.45728   9.45728   9.45728      9.45728   9.45728   9.45728\n",
       " 10.4092   10.4092   10.4092   10.4092      10.4092   10.4092   10.4092 \n",
       " 11.3703   11.3703   11.3703   11.3703   …  11.3703   11.3703   11.3703 \n",
       " 12.3381   12.3381   12.3381   12.3381      12.3381   12.3381   12.3381 \n",
       " 13.3108   13.3108   13.3108   13.3108      13.3108   13.3108   13.3108 \n",
       " 14.2866   14.2866   14.2866   14.2866      14.2866   14.2866   14.2866 \n",
       " 15.2634   15.2634   15.2634   15.2634      15.2634   15.2634   15.2634 \n",
       " 16.2386   16.2386   16.2386   16.2386   …  16.2386   16.2386   16.2386 \n",
       " 17.2075   17.2075   17.2075   17.2075      17.2075   17.2075   17.2075 \n",
       " 18.1636   18.1636   18.1636   18.1636      18.1636   18.1636   18.1636 \n",
       " 19.0981   19.0981   19.0981   19.0981      19.0981   19.0981   19.0981 \n",
       " 20.0      20.0      20.0      20.0         20.0      20.0      20.0    "
      ]
     },
     "execution_count": 75,
     "metadata": {},
     "output_type": "execute_result"
    }
   ],
   "source": [
    "calor(q,t1)"
   ]
  },
  {
   "cell_type": "code",
   "execution_count": 76,
   "metadata": {},
   "outputs": [
    {
     "data": {
      "text/plain": [
       "linspace(0.0,10.0,1000)"
      ]
     },
     "execution_count": 76,
     "metadata": {},
     "output_type": "execute_result"
    }
   ],
   "source": [
    "t2=linspace(0,10,1000)"
   ]
  },
  {
   "cell_type": "code",
   "execution_count": 77,
   "metadata": {
    "scrolled": false
   },
   "outputs": [
    {
     "data": {
      "text/plain": [
       "20x20x1000 Array{Float64,3}:\n",
       "[:, :, 1] =\n",
       "  1.0   1.0   1.0   1.0   1.0   1.0  …   1.0   1.0   1.0   1.0   1.0   1.0\n",
       "  2.0   2.0   2.0   2.0   2.0   2.0      2.0   2.0   2.0   2.0   2.0   2.0\n",
       "  3.0   3.0   3.0   3.0   3.0   3.0      3.0   3.0   3.0   3.0   3.0   3.0\n",
       "  4.0   4.0   4.0   4.0   4.0   4.0      4.0   4.0   4.0   4.0   4.0   4.0\n",
       "  5.0   5.0   5.0   5.0   5.0   5.0      5.0   5.0   5.0   5.0   5.0   5.0\n",
       "  6.0   6.0   6.0   6.0   6.0   6.0  …   6.0   6.0   6.0   6.0   6.0   6.0\n",
       "  7.0   7.0   7.0   7.0   7.0   7.0      7.0   7.0   7.0   7.0   7.0   7.0\n",
       "  8.0   8.0   8.0   8.0   8.0   8.0      8.0   8.0   8.0   8.0   8.0   8.0\n",
       "  9.0   9.0   9.0   9.0   9.0   9.0      9.0   9.0   9.0   9.0   9.0   9.0\n",
       " 10.0  10.0  10.0  10.0  10.0  10.0     10.0  10.0  10.0  10.0  10.0  10.0\n",
       " 11.0  11.0  11.0  11.0  11.0  11.0  …  11.0  11.0  11.0  11.0  11.0  11.0\n",
       " 12.0  12.0  12.0  12.0  12.0  12.0     12.0  12.0  12.0  12.0  12.0  12.0\n",
       " 13.0  13.0  13.0  13.0  13.0  13.0     13.0  13.0  13.0  13.0  13.0  13.0\n",
       " 14.0  14.0  14.0  14.0  14.0  14.0     14.0  14.0  14.0  14.0  14.0  14.0\n",
       " 15.0  15.0  15.0  15.0  15.0  15.0     15.0  15.0  15.0  15.0  15.0  15.0\n",
       " 16.0  16.0  16.0  16.0  16.0  16.0  …  16.0  16.0  16.0  16.0  16.0  16.0\n",
       " 17.0  17.0  17.0  17.0  17.0  17.0     17.0  17.0  17.0  17.0  17.0  17.0\n",
       " 18.0  18.0  18.0  18.0  18.0  18.0     18.0  18.0  18.0  18.0  18.0  18.0\n",
       " 19.0  19.0  19.0  19.0  19.0  19.0     19.0  19.0  19.0  19.0  19.0  19.0\n",
       " 20.0  20.0  20.0  20.0  20.0  20.0     20.0  20.0  20.0  20.0  20.0  20.0\n",
       "\n",
       "[:, :, 2] =\n",
       "  1.02002   1.02002   1.02002   1.02002  …   1.02002   1.02002   1.02002\n",
       "  2.02002   2.02002   2.02002   2.02002      2.02002   2.02002   2.02002\n",
       "  3.01335   3.01335   3.01335   3.01335      3.01335   3.01335   3.01335\n",
       "  4.01001   4.01001   4.01001   4.01001      4.01001   4.01001   4.01001\n",
       "  5.00801   5.00801   5.00801   5.00801      5.00801   5.00801   5.00801\n",
       "  6.00667   6.00667   6.00667   6.00667  …   6.00667   6.00667   6.00667\n",
       "  7.00572   7.00572   7.00572   7.00572      7.00572   7.00572   7.00572\n",
       "  8.00501   8.00501   8.00501   8.00501      8.00501   8.00501   8.00501\n",
       "  9.00445   9.00445   9.00445   9.00445      9.00445   9.00445   9.00445\n",
       " 10.004    10.004    10.004    10.004       10.004    10.004    10.004  \n",
       " 11.0036   11.0036   11.0036   11.0036   …  11.0036   11.0036   11.0036 \n",
       " 12.0033   12.0033   12.0033   12.0033      12.0033   12.0033   12.0033 \n",
       " 13.0031   13.0031   13.0031   13.0031      13.0031   13.0031   13.0031 \n",
       " 14.0029   14.0029   14.0029   14.0029      14.0029   14.0029   14.0029 \n",
       " 15.0027   15.0027   15.0027   15.0027      15.0027   15.0027   15.0027 \n",
       " 16.0025   16.0025   16.0025   16.0025   …  16.0025   16.0025   16.0025 \n",
       " 17.0024   17.0024   17.0024   17.0024      17.0024   17.0024   17.0024 \n",
       " 18.0022   18.0022   18.0022   18.0022      18.0022   18.0022   18.0022 \n",
       " 19.0021   19.0021   19.0021   19.0021      19.0021   19.0021   19.0021 \n",
       " 20.0      20.0      20.0      20.0         20.0      20.0      20.0    \n",
       "\n",
       "[:, :, 3] =\n",
       "  1.03977   1.03977   1.03977   1.03977  …   1.03977   1.03977   1.03977\n",
       "  2.03971   2.03971   2.03971   2.03971      2.03971   2.03971   2.03971\n",
       "  3.02676   3.02676   3.02676   3.02676      3.02676   3.02676   3.02676\n",
       "  4.02005   4.02005   4.02005   4.02005      4.02005   4.02005   4.02005\n",
       "  5.01603   5.01603   5.01603   5.01603      5.01603   5.01603   5.01603\n",
       "  6.01335   6.01335   6.01335   6.01335  …   6.01335   6.01335   6.01335\n",
       "  7.01144   7.01144   7.01144   7.01144      7.01144   7.01144   7.01144\n",
       "  8.01001   8.01001   8.01001   8.01001      8.01001   8.01001   8.01001\n",
       "  9.0089    9.0089    9.0089    9.0089       9.0089    9.0089    9.0089 \n",
       " 10.008    10.008    10.008    10.008       10.008    10.008    10.008  \n",
       " 11.0073   11.0073   11.0073   11.0073   …  11.0073   11.0073   11.0073 \n",
       " 12.0067   12.0067   12.0067   12.0067      12.0067   12.0067   12.0067 \n",
       " 13.0062   13.0062   13.0062   13.0062      13.0062   13.0062   13.0062 \n",
       " 14.0057   14.0057   14.0057   14.0057      14.0057   14.0057   14.0057 \n",
       " 15.0053   15.0053   15.0053   15.0053      15.0053   15.0053   15.0053 \n",
       " 16.005    16.005    16.005    16.005    …  16.005    16.005    16.005  \n",
       " 17.0047   17.0047   17.0047   17.0047      17.0047   17.0047   17.0047 \n",
       " 18.0044   18.0044   18.0044   18.0044      18.0044   18.0044   18.0044 \n",
       " 19.0041   19.0041   19.0041   19.0041      19.0041   19.0041   19.0041 \n",
       " 20.0      20.0      20.0      20.0         20.0      20.0      20.0    \n",
       "\n",
       "...\n",
       "\n",
       "[:, :, 998] =\n",
       " 10.1444  10.1444  10.1444  10.1444  …  10.1444  10.1444  10.1444  10.1444\n",
       " 10.4854  10.4854  10.4854  10.4854     10.4854  10.4854  10.4854  10.4854\n",
       " 10.7998  10.7998  10.7998  10.7998     10.7998  10.7998  10.7998  10.7998\n",
       " 11.1371  11.1371  11.1371  11.1371     11.1371  11.1371  11.1371  11.1371\n",
       " 11.5109  11.5109  11.5109  11.5109     11.5109  11.5109  11.5109  11.5109\n",
       " 11.9253  11.9253  11.9253  11.9253  …  11.9253  11.9253  11.9253  11.9253\n",
       " 12.3798  12.3798  12.3798  12.3798     12.3798  12.3798  12.3798  12.3798\n",
       " 12.872   12.872   12.872   12.872      12.872   12.872   12.872   12.872 \n",
       " 13.3985  13.3985  13.3985  13.3985     13.3985  13.3985  13.3985  13.3985\n",
       " 13.9547  13.9547  13.9547  13.9547     13.9547  13.9547  13.9547  13.9547\n",
       " 14.5359  14.5359  14.5359  14.5359  …  14.5359  14.5359  14.5359  14.5359\n",
       " 15.1368  15.1368  15.1368  15.1368     15.1368  15.1368  15.1368  15.1368\n",
       " 15.7521  15.7521  15.7521  15.7521     15.7521  15.7521  15.7521  15.7521\n",
       " 16.3762  16.3762  16.3762  16.3762     16.3762  16.3762  16.3762  16.3762\n",
       " 17.0035  17.0035  17.0035  17.0035     17.0035  17.0035  17.0035  17.0035\n",
       " 17.6285  17.6285  17.6285  17.6285  …  17.6285  17.6285  17.6285  17.6285\n",
       " 18.2459  18.2459  18.2459  18.2459     18.2459  18.2459  18.2459  18.2459\n",
       " 18.8502  18.8502  18.8502  18.8502     18.8502  18.8502  18.8502  18.8502\n",
       " 19.4366  19.4366  19.4366  19.4366     19.4366  19.4366  19.4366  19.4366\n",
       " 20.0     20.0     20.0     20.0        20.0     20.0     20.0     20.0   \n",
       "\n",
       "[:, :, 999] =\n",
       " 10.1501  10.1501  10.1501  10.1501  …  10.1501  10.1501  10.1501  10.1501\n",
       " 10.4909  10.4909  10.4909  10.4909     10.4909  10.4909  10.4909  10.4909\n",
       " 10.8051  10.8051  10.8051  10.8051     10.8051  10.8051  10.8051  10.8051\n",
       " 11.1421  11.1421  11.1421  11.1421     11.1421  11.1421  11.1421  11.1421\n",
       " 11.5157  11.5157  11.5157  11.5157     11.5157  11.5157  11.5157  11.5157\n",
       " 11.9298  11.9298  11.9298  11.9298  …  11.9298  11.9298  11.9298  11.9298\n",
       " 12.384   12.384   12.384   12.384      12.384   12.384   12.384   12.384 \n",
       " 12.8759  12.8759  12.8759  12.8759     12.8759  12.8759  12.8759  12.8759\n",
       " 13.4021  13.4021  13.4021  13.4021     13.4021  13.4021  13.4021  13.4021\n",
       " 13.958   13.958   13.958   13.958      13.958   13.958   13.958   13.958 \n",
       " 14.5389  14.5389  14.5389  14.5389  …  14.5389  14.5389  14.5389  14.5389\n",
       " 15.1394  15.1394  15.1394  15.1394     15.1394  15.1394  15.1394  15.1394\n",
       " 15.7544  15.7544  15.7544  15.7544     15.7544  15.7544  15.7544  15.7544\n",
       " 16.3781  16.3781  16.3781  16.3781     16.3781  16.3781  16.3781  16.3781\n",
       " 17.005   17.005   17.005   17.005      17.005   17.005   17.005   17.005 \n",
       " 17.6298  17.6298  17.6298  17.6298  …  17.6298  17.6298  17.6298  17.6298\n",
       " 18.2468  18.2468  18.2468  18.2468     18.2468  18.2468  18.2468  18.2468\n",
       " 18.8508  18.8508  18.8508  18.8508     18.8508  18.8508  18.8508  18.8508\n",
       " 19.4369  19.4369  19.4369  19.4369     19.4369  19.4369  19.4369  19.4369\n",
       " 20.0     20.0     20.0     20.0        20.0     20.0     20.0     20.0   \n",
       "\n",
       "[:, :, 1000] =\n",
       " 10.1559  10.1559  10.1559  10.1559  …  10.1559  10.1559  10.1559  10.1559\n",
       " 10.4964  10.4964  10.4964  10.4964     10.4964  10.4964  10.4964  10.4964\n",
       " 10.8103  10.8103  10.8103  10.8103     10.8103  10.8103  10.8103  10.8103\n",
       " 11.1471  11.1471  11.1471  11.1471     11.1471  11.1471  11.1471  11.1471\n",
       " 11.5205  11.5205  11.5205  11.5205     11.5205  11.5205  11.5205  11.5205\n",
       " 11.9343  11.9343  11.9343  11.9343  …  11.9343  11.9343  11.9343  11.9343\n",
       " 12.3882  12.3882  12.3882  12.3882     12.3882  12.3882  12.3882  12.3882\n",
       " 12.8799  12.8799  12.8799  12.8799     12.8799  12.8799  12.8799  12.8799\n",
       " 13.4057  13.4057  13.4057  13.4057     13.4057  13.4057  13.4057  13.4057\n",
       " 13.9613  13.9613  13.9613  13.9613     13.9613  13.9613  13.9613  13.9613\n",
       " 14.5418  14.5418  14.5418  14.5418  …  14.5418  14.5418  14.5418  14.5418\n",
       " 15.142   15.142   15.142   15.142      15.142   15.142   15.142   15.142 \n",
       " 15.7566  15.7566  15.7566  15.7566     15.7566  15.7566  15.7566  15.7566\n",
       " 16.38    16.38    16.38    16.38       16.38    16.38    16.38    16.38  \n",
       " 17.0066  17.0066  17.0066  17.0066     17.0066  17.0066  17.0066  17.0066\n",
       " 17.631   17.631   17.631   17.631   …  17.631   17.631   17.631   17.631 \n",
       " 18.2477  18.2477  18.2477  18.2477     18.2477  18.2477  18.2477  18.2477\n",
       " 18.8514  18.8514  18.8514  18.8514     18.8514  18.8514  18.8514  18.8514\n",
       " 19.4372  19.4372  19.4372  19.4372     19.4372  19.4372  19.4372  19.4372\n",
       " 20.0     20.0     20.0     20.0        20.0     20.0     20.0     20.0   "
      ]
     },
     "execution_count": 77,
     "metadata": {},
     "output_type": "execute_result"
    }
   ],
   "source": [
    "calor(q,t2)"
   ]
  },
  {
   "cell_type": "code",
   "execution_count": 78,
   "metadata": {},
   "outputs": [
    {
     "data": {
      "image/png": "[encoded data removed]",
      "text/plain": [
       "PyPlot.Figure(PyObject <matplotlib.figure.Figure object at 0x7f6bc31f9f90>)"
      ]
     },
     "metadata": {},
     "output_type": "display_data"
    },
    {
     "data": {
      "text/plain": [
       "PyObject <matplotlib.collections.QuadMesh object at 0x7f6bc76ad1d0>"
      ]
     },
     "execution_count": 78,
     "metadata": {},
     "output_type": "execute_result"
    }
   ],
   "source": [
    "pcolormesh(calor(q,t1)[:, :, 1]) #graficamos la segunda distribucion "
   ]
  },
  {
   "cell_type": "code",
   "execution_count": 82,
   "metadata": {},
   "outputs": [
    {
     "data": {
      "image/png": "[encoded data removed]",
      "text/plain": [
       "PyPlot.Figure(PyObject <matplotlib.figure.Figure object at 0x7f6bc7981a10>)"
      ]
     },
     "metadata": {},
     "output_type": "display_data"
    },
    {
     "data": {
      "text/plain": [
       "PyObject <matplotlib.collections.QuadMesh object at 0x7f6bc7a26190>"
      ]
     },
     "execution_count": 82,
     "metadata": {},
     "output_type": "execute_result"
    }
   ],
   "source": [
    "pcolormesh(calor(q,t1)[:, :, 100])"
   ]
  },
  {
   "cell_type": "code",
   "execution_count": 84,
   "metadata": {},
   "outputs": [
    {
     "data": {
      "image/png": "[encoded data removed]",
      "text/plain": [
       "PyPlot.Figure(PyObject <matplotlib.figure.Figure object at 0x7f6bc7bd5410>)"
      ]
     },
     "metadata": {},
     "output_type": "display_data"
    },
    {
     "data": {
      "text/plain": [
       "PyObject <matplotlib.collections.QuadMesh object at 0x7f6bcd7a6c90>"
      ]
     },
     "execution_count": 84,
     "metadata": {},
     "output_type": "execute_result"
    }
   ],
   "source": [
    "pcolormesh(calor(q,t2)[:, :, 10]) #graficamos la segunda distribucion con el segundo intervalo de tiempo"
   ]
  },
  {
   "cell_type": "code",
   "execution_count": 85,
   "metadata": {},
   "outputs": [
    {
     "data": {
      "image/png": "[encoded data removed]",
      "text/plain": [
       "PyPlot.Figure(PyObject <matplotlib.figure.Figure object at 0x7f6bc7a261d0>)"
      ]
     },
     "metadata": {},
     "output_type": "display_data"
    },
    {
     "data": {
      "text/plain": [
       "PyObject <matplotlib.collections.QuadMesh object at 0x7f6bc7a3cc90>"
      ]
     },
     "execution_count": 85,
     "metadata": {},
     "output_type": "execute_result"
    }
   ],
   "source": [
    "pcolormesh(calor(q,t2)[:, :, 1000])"
   ]
  },
  {
   "cell_type": "code",
   "execution_count": null,
   "metadata": {},
   "outputs": [],
   "source": [
    "#podemos notar otra vez que las graficas no varian mucho de igual manera la pequeña diferencia de los puntos de la malla a diferentes timepos"
   ]
  },
  {
   "cell_type": "code",
   "execution_count": 1,
   "metadata": {
    "scrolled": true
   },
   "outputs": [
    {
     "ename": "LoadError",
     "evalue": "ArgumentError: Module Plots not found in current path.\nRun `Pkg.add(\"Plots\")` to install the Plots package.",
     "output_type": "error",
     "traceback": [
      "ArgumentError: Module Plots not found in current path.\nRun `Pkg.add(\"Plots\")` to install the Plots package.",
      "",
      " in require(::Symbol) at ./loading.jl:365",
      " in include_string(::String, ::String) at ./loading.jl:441"
     ]
    }
   ],
   "source": [
    "using Plots"
   ]
  },
  {
   "cell_type": "code",
   "execution_count": null,
   "metadata": {
    "scrolled": true
   },
   "outputs": [
    {
     "name": "stderr",
     "output_type": "stream",
     "text": [
      "\u001b[1m\u001b[34mINFO: Initializing package repository /home/juser/.julia/v0.5\n",
      "\u001b[0m\u001b[1m\u001b[34mINFO: Cloning METADATA from https://github.com/JuliaLang/METADATA.jl\n",
      "\u001b[0m"
     ]
    }
   ],
   "source": [
    "Pkg.add(\"Plots\")"
   ]
  },
  {
   "cell_type": "code",
   "execution_count": 21,
   "metadata": {},
   "outputs": [
    {
     "name": "stderr",
     "output_type": "stream",
     "text": [
      "\u001b[1m\u001b[34mINFO: Cloning cache of GR from git://github.com/jheinen/GR.jl.git\n",
      "\u001b[0m\u001b[1m\u001b[34mINFO: Installing GR v0.19.0\n",
      "\u001b[0m\u001b[1m\u001b[34mINFO: Building GR\n",
      "\u001b[0m\u001b[1m\u001b[34mINFO: Downloading pre-compiled GR 0.23.0 Ubuntu binary\n",
      "\u001b[0m  % Total    % Received % Xferd  Average Speed   Time    Time     Time  Current\n",
      "                                 Dload  Upload   Total   Spent    Left  Speed\n",
      "100 38.1M  100 38.1M    0     0  6497k      0  0:00:06  0:00:06 --:--:-- 8204k\n",
      "\u001b[1m\u001b[34mINFO: Package database updated\n",
      "\u001b[0m"
     ]
    }
   ],
   "source": [
    "Pkg.add(\"GR\")"
   ]
  },
  {
   "cell_type": "code",
   "execution_count": 36,
   "metadata": {},
   "outputs": [
    {
     "data": {
      "text/plain": [
       ":ijulia"
      ]
     },
     "execution_count": 36,
     "metadata": {},
     "output_type": "execute_result"
    }
   ],
   "source": [
    "gr(show = :ijulia)"
   ]
  },
  {
   "cell_type": "code",
   "execution_count": 42,
   "metadata": {},
   "outputs": [
    {
     "ename": "LoadError",
     "evalue": "UndefVarError: @gif not defined",
     "output_type": "error",
     "traceback": [
      "UndefVarError: @gif not defined",
      ""
     ]
    }
   ],
   "source": [
    "@gif for i=1:20\n",
    "    pcolormesh(calor(p,t1)[:, :, i], key = false)\n",
    "end"
   ]
  },
  {
   "cell_type": "markdown",
   "metadata": {},
   "source": [
    "Lamentablemente no logramos animar las graficas debido a ciertos problemas con Julia \"[errno 28] no space left on device\" entre otros como el no lograr guardar nuestro cambios y no poder accesar a la platanforma o sacarnos de ella, sin mencionar nuestra dificultad de graficar en coordenadas polares.\n",
    "Sin embargo, el entendimineto de la programacion para resolver el problema la logramos realizar por lo cual solo nos falto presentarla visualmente. Por todas los inconvenientes y retraso pedimos una disculpa."
   ]
  },
  {
   "cell_type": "markdown",
   "metadata": {},
   "source": [
    "Referencias.\n",
    "\n",
    "[1] http://mmc.geofisica.unam.mx/acl/EDP/F_M/FDM/Introducci%C3%B3n%20al%20M%C3%A9todo%20de%20Diferencias%20Finitas%20y%20su%20Implementaci%C3%B3n%20Computacional.pdf, 21/11/2017,9:19 am"
   ]
  }
 ],
 "metadata": {
  "kernelspec": {
   "display_name": "Julia 0.5.2",
   "language": "julia",
   "name": "julia-0.5"
  },
  "language_info": {
   "file_extension": ".jl",
   "mimetype": "application/julia",
   "name": "julia",
   "version": "0.5.2"
  }
 },
 "nbformat": 4,
 "nbformat_minor": 2
}
