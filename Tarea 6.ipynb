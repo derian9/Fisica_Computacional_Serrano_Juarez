{
 "cells": [
  {
   "cell_type": "markdown",
   "metadata": {},
   "source": [
    "# TAREA 6\n",
    "\n",
    "## Ejercicio 1: Implementar el método de integración del rectángulo. "
   ]
  },
  {
   "cell_type": "markdown",
   "metadata": {},
   "source": [
    "Para usar el método de integración del rectangulo nuestro código se basará en la fórmula:\n",
    "\n",
    "$$\\int_{a}^{b} f(x)dx \\approx \\sum_{k=0}^{n} \\frac{b-a}{n} f(\\frac {a+\\frac{(2k+1)(b-a)}{n}}{2})$$"
   ]
  },
  {
   "cell_type": "code",
   "execution_count": 9,
   "metadata": {
    "collapsed": false
   },
   "outputs": [
    {
     "data": {
      "text/plain": [
       "f (generic function with 1 method)"
      ]
     },
     "execution_count": 9,
     "metadata": {},
     "output_type": "execute_result"
    }
   ],
   "source": [
    "f(x)= x #Definimos la función que queremos integrar."
   ]
  },
  {
   "cell_type": "code",
   "execution_count": 12,
   "metadata": {
    "collapsed": false
   },
   "outputs": [
    {
     "data": {
      "text/plain": [
       "int (generic function with 2 methods)"
      ]
     },
     "execution_count": 12,
     "metadata": {},
     "output_type": "execute_result"
    }
   ],
   "source": [
    "function int(a,b,n) #Llamamos la funcion int con los armumentos deseados (f la función; a,b es el intervalo , n es la presicion con la que se va a calcular la integral.)\n",
    "   \n",
    "    s=0    #S será la variable que irá cargando la suma de los rectangulos. innicialmente en cero.\n",
    "    dx=(b-a)/n #Aqui definimos la base de nuestros rectangulos.\n",
    "    \n",
    "    for i in 0:n\n",
    "    \n",
    "        s = s + dx*f((a+(2i+1)*dx)/2) #Damos la aproximacion de los trapecios.\n",
    "    end\n",
    "    return s  #Pedimos que regrese s, es decir guarde el valor de s y vuelva a realizar el procedimiento.\n",
    "    \n",
    "end"
   ]
  },
  {
   "cell_type": "code",
   "execution_count": 13,
   "metadata": {
    "collapsed": false
   },
   "outputs": [
    {
     "data": {
      "text/plain": [
       "0.51005"
      ]
     },
     "execution_count": 13,
     "metadata": {},
     "output_type": "execute_result"
    }
   ],
   "source": [
    "int(0,1,100)"
   ]
  },
  {
   "cell_type": "markdown",
   "metadata": {
    "collapsed": true
   },
   "source": [
    "## Ejercicio 2: Implementar método del trapecio"
   ]
  },
  {
   "cell_type": "markdown",
   "metadata": {},
   "source": [
    "En lugar de utilizar rectangulos para aproximar la integral en un intervalo dado $[a,b]$, podemos utilizar trapecios:\n",
    "\n",
    "$$\\int_a^b f(x)\\,dx \\approx (b-a) \\, \\left(\\frac{f(a) + f(b)}{2}\\right).$$"
   ]
  },
  {
   "cell_type": "code",
   "execution_count": 6,
   "metadata": {
    "collapsed": false
   },
   "outputs": [
    {
     "data": {
      "text/plain": [
       "f (generic function with 1 method)"
      ]
     },
     "execution_count": 6,
     "metadata": {},
     "output_type": "execute_result"
    }
   ],
   "source": [
    "f(x)= x #Definimos la función que queremos integrar."
   ]
  },
  {
   "cell_type": "code",
   "execution_count": 14,
   "metadata": {
    "collapsed": false
   },
   "outputs": [
    {
     "data": {
      "text/plain": [
       "int2 (generic function with 2 methods)"
      ]
     },
     "execution_count": 14,
     "metadata": {},
     "output_type": "execute_result"
    }
   ],
   "source": [
    "function int2(a,b,n) #Llamamos la funcion int con los armumentos deseados (f la función; a,b es el intervalo , n es la presicion con la que se va a calcular la integral.)\n",
    "   \n",
    "    s=0    #S será la variable que irá cargando la suma de los rectangulos. innicialmente en cero.\n",
    "    dx=(b-a)/n #Aqui definimos la base de nuestros rectangulos.\n",
    "    \n",
    "    for i in 0:n\n",
    "    \n",
    "        s = s + dx*(f(a+(i*dx))+f(a+((i+1)*dx)))/2  #Damos la aproximacion de los trapecios\n",
    "    end\n",
    "    return s\n",
    "    \n",
    "end"
   ]
  },
  {
   "cell_type": "code",
   "execution_count": 16,
   "metadata": {
    "collapsed": false
   },
   "outputs": [
    {
     "data": {
      "text/plain": [
       "0.51005"
      ]
     },
     "execution_count": 16,
     "metadata": {},
     "output_type": "execute_result"
    }
   ],
   "source": [
    "int2(0,1,100)"
   ]
  }
 ],
 "metadata": {
  "kernelspec": {
   "display_name": "Julia 0.6.0",
   "language": "julia",
   "name": "julia-0.6"
  },
  "language_info": {
   "file_extension": ".jl",
   "mimetype": "application/julia",
   "name": "julia",
   "version": "0.6.0"
  }
 },
 "nbformat": 4,
 "nbformat_minor": 2
}
