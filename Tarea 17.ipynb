{
 "cells": [
  {
   "cell_type": "markdown",
   "metadata": {},
   "source": [
    "# Tarea 17"
   ]
  },
  {
   "cell_type": "markdown",
   "metadata": {},
   "source": [
    "__Ejercicio 1:__ ¿Como podemos evaluar funciones en matrices?\n",
    "__Hint:__ ¿que operaciones sabemos que estan bien definidas sobre matrices?"
   ]
  },
  {
   "cell_type": "markdown",
   "metadata": {},
   "source": []
  },
  {
   "cell_type": "markdown",
   "metadata": {},
   "source": [
    "__Ejercicio 2:__ ¿Como se define una matriz simétrica?"
   ]
  },
  {
   "cell_type": "markdown",
   "metadata": {},
   "source": [
    "Una matriz A es simétrica si los elementos cumple que $a_{ij}=a_{ji}$, la cual tiene la característica de ser igual a su traspuesta ($A^T=A$)."
   ]
  },
  {
   "cell_type": "markdown",
   "metadata": {},
   "source": [
    "__Ejercicio 3:__ ¿Como puede construir una matriz simétrica a partir de cualquier matriz cuadrada?"
   ]
  },
  {
   "cell_type": "markdown",
   "metadata": {},
   "source": [
    "Una matriz $A_{nxn}$ se dice que es simetrizable si existe una matriz diagonal invertible $D$ y matriz simétrica $S$ de tal manera que $A = DS$. La transposición de una matriz simétrica es simétrica, ya que $A^T = (DS)^T = SD = D^{-1} ( DSD )$ y $DSD$ es simétrica.\n",
    "\n",
    "De igual forma utilizando la forma normal de Jordan , se puede probar que cada matriz real cuadrada se puede escribir como un producto de dos matrices simétricas reales, de bido a que las matrices cuadrdas tienen la propiedad de que toda matriz cuadrada se puede descomponer en la suma de una matriz simétrica y una matriz antisimétrica."
   ]
  },
  {
   "cell_type": "markdown",
   "metadata": {},
   "source": [
    "__Ejercicio 4:__ Construya el propagador $e^{A t}$ para cada tiempo sobre una malla y uselo para propagar un estado inicial $\\vec x_0$ cualquiera. Utilice:\n",
    "$$A=\\left(\\begin{array}{cc} -1 & 1\\\\ -1 & -1 \\end{array} \\right).$$\n",
    "* Grafique la trayectoria en el espacio de fase."
   ]
  },
  {
   "cell_type": "code",
   "execution_count": 19,
   "metadata": {},
   "outputs": [
    {
     "data": {
      "text/plain": [
       "2×2 Array{Int64,2}:\n",
       " -1   1\n",
       " -1  -1"
      ]
     },
     "execution_count": 19,
     "metadata": {},
     "output_type": "execute_result"
    }
   ],
   "source": [
    "A=[-1 1; -1 -1] #Definimos nuestra matriz."
   ]
  },
  {
   "cell_type": "code",
   "execution_count": 20,
   "metadata": {},
   "outputs": [
    {
     "data": {
      "text/plain": [
       "2-element Array{Complex{Float64},1}:\n",
       " -1.0+1.0im\n",
       " -1.0-1.0im"
      ]
     },
     "execution_count": 20,
     "metadata": {},
     "output_type": "execute_result"
    }
   ],
   "source": [
    "vals=eigvals(A)     #Calculamos los eigenvalores.                                                                                                                                                                                                                                                                             "
   ]
  },
  {
   "cell_type": "code",
   "execution_count": 21,
   "metadata": {},
   "outputs": [
    {
     "data": {
      "text/plain": [
       "2×2 Array{Complex{Float64},2}:\n",
       " -1.0+1.0im   0.0+0.0im\n",
       "  0.0+0.0im  -1.0-1.0im"
      ]
     },
     "execution_count": 21,
     "metadata": {},
     "output_type": "execute_result"
    }
   ],
   "source": [
    "d=diagm(vals) "
   ]
  },
  {
   "cell_type": "code",
   "execution_count": 43,
   "metadata": {},
   "outputs": [
    {
     "data": {
      "text/plain": [
       "2×2 Array{Complex{Float64},2}:\n",
       " 0.707107+0.0im       0.707107-0.0im     \n",
       "      0.0+0.707107im       0.0-0.707107im"
      ]
     },
     "execution_count": 43,
     "metadata": {},
     "output_type": "execute_result"
    }
   ],
   "source": [
    "w=eigvecs(A*t) #Calculamos los eigenvectores. "
   ]
  },
  {
   "cell_type": "code",
   "execution_count": 23,
   "metadata": {},
   "outputs": [
    {
     "data": {
      "text/plain": [
       "2×2 Array{Complex{Float64},2}:\n",
       " 0.198766+0.0im   0.30956+0.0im\n",
       " -0.30956+0.0im  0.198766+0.0im"
      ]
     },
     "execution_count": 23,
     "metadata": {},
     "output_type": "execute_result"
    }
   ],
   "source": [
    "expA=w*diagm(exp.(vals))*w'"
   ]
  },
  {
   "cell_type": "code",
   "execution_count": 30,
   "metadata": {},
   "outputs": [
    {
     "data": {
      "text/plain": [
       "2×2 Array{Float64,2}:\n",
       "  0.198766  0.30956 \n",
       " -0.30956   0.198766"
      ]
     },
     "execution_count": 30,
     "metadata": {},
     "output_type": "execute_result"
    }
   ],
   "source": [
    "expm(A) #Utilizamos la función por default de Julia para comprobar la exponencial de la matriz."
   ]
  },
  {
   "cell_type": "code",
   "execution_count": 44,
   "metadata": {},
   "outputs": [
    {
     "ename": "LoadError",
     "evalue": "syntax: missing comma or ) in argument list",
     "output_type": "error",
     "traceback": [
      "syntax: missing comma or ) in argument list",
      "",
      " in include_string(::String, ::String) at ./loading.jl:441"
     ]
    }
   ],
   "source": [
    "xo=[0,1]\n",
    "listx=[]\n",
    "vals=eigvals(A)\n",
    "d=diagm(vals)\n",
    "w=eigvecs(A)\n",
    "    for t in linspace(0,9,900)\n",
    "        \n",
    "        mat=w*diagm(exp.(vals*t)*w'\n",
    "        x=mat*xo\n",
    "        push!(listx,x)\n",
    "    end\n",
    "return list=map(x->x[1],listx)"
   ]
  },
  {
   "cell_type": "code",
   "execution_count": 45,
   "metadata": {},
   "outputs": [],
   "source": [
    "using PyPlot"
   ]
  },
  {
   "cell_type": "code",
   "execution_count": 46,
   "metadata": {},
   "outputs": [
    {
     "data": {
      "image/png": "[encoded data removed]",
      "text/plain": [
       "PyPlot.Figure(PyObject <matplotlib.figure.Figure object at 0x7f6ceec262d0>)"
      ]
     },
     "metadata": {},
     "output_type": "display_data"
    },
    {
     "data": {
      "text/plain": [
       "1-element Array{Any,1}:\n",
       " PyObject <matplotlib.lines.Line2D object at 0x7f6ceeba9250>"
      ]
     },
     "execution_count": 46,
     "metadata": {},
     "output_type": "execute_result"
    }
   ],
   "source": [
    "plot(list)"
   ]
  },
  {
   "cell_type": "code",
   "execution_count": null,
   "metadata": {},
   "outputs": [],
   "source": []
  }
 ],
 "metadata": {
  "kernelspec": {
   "display_name": "Julia 0.5.2",
   "language": "julia",
   "name": "julia-0.5"
  },
  "language_info": {
   "file_extension": ".jl",
   "mimetype": "application/julia",
   "name": "julia",
   "version": "0.5.2"
  }
 },
 "nbformat": 4,
 "nbformat_minor": 2
}
