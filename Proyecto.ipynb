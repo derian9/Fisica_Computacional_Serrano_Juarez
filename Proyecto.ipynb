{
 "cells": [
  {
   "cell_type": "markdown",
   "metadata": {},
   "source": [
    "# Solución a la Ecuación de Calor Bidimensional"
   ]
  },
  {
   "cell_type": "markdown",
   "metadata": {},
   "source": [
    "## Con Condiciones de Dirichlet en Coordenadas Polares"
   ]
  },
  {
   "cell_type": "markdown",
   "metadata": {},
   "source": [
    "La ecuación del calor es una importante ecuación diferencial en derivadas parciales que describe la variación y la evolución del calor (o de la temperatura) en una región a lo largo intervalo de tiempo.\n",
    "\n",
    "El matemático y físico francés Jean Baptiste Joseph Fourier (1768-1830) fue pionero en el estudio\n",
    "de la transferencia del calor en sólidos y fue quien dedujo la denominada Ecuación del Calor:\n",
    "\n",
    "$$\\displaystyle {k\\frac {\\partial u}{\\partial t}}-\\nabla ^{2}u=0$$\n",
    "\n",
    "En nuestro caso buscaremos una función que sea solución de la ecuación en una región polar del tipo $ 0\\leq r \\leq a;0\\leq t  $. Para esto se usará las siguientes condiciones de frontera.\n",
    " $$u(r,\\theta+2\\pi,t)=u(r,\\theta,t)$$\n",
    " $$u(a,\\theta,t)=h(\\theta,t)$$\n",
    " $$u(r, \\theta,0)=p(r,\\theta)$$ \n",
    " \n",
    "Evidentemente nuestra función va a recibir a $k, a, h$ y $p$. Además con el fin de discretizar solo se ocupará un intervalo de tiempo finito $[0,t_0]$ y una malla para $r \\theta$ la cual determinará el usuario.\n",
    " \n",
    "Discreticemos $\\nabla^2$ en coordenadas polares, para ello recordemos lo siguiente:\n",
    " \n",
    "$$\\Delta f=\\nabla ^{2}f={\\partial ^{2}f \\over \\partial r ^{2}}+{1 \\over r }{\\partial f \\over \\partial r }+{1 \\over r ^{2}}{\\partial ^{2}f \\over \\partial \\theta ^{2}}$$\n",
    "\n",
    "Tomando las aproximaciones\n",
    "$$\\frac {\\partial f(r,\\theta,t)}{\\partial r} \\approx \\frac {f(r+h,\\theta,t)-f(r-h,\\theta,t)}{2h} $$\n",
    "$$\\frac {\\partial^2 f(r,\\theta,t)}{\\partial r^2} \\approx \\frac{f(r+h,\\theta,t)+f(r-h,\\theta,t)-2f(r,\\theta,t)}{h^2}$$\n",
    "$$\\frac {\\partial^2 f(r,\\theta,t)}{\\partial \\theta^2} \\approx \\frac{f(r,\\theta+h,t)+f(r,\\theta-h,t)-2f(r,\\theta,t)}{h^2}$$\n",
    "$$\\frac {\\partial f(r,\\theta,t)}{\\partial t} \\approx \\frac {f(r,\\theta,t+s)-f(r,\\theta,t-s)}{2s} $$"
   ]
  },
  {
   "cell_type": "markdown",
   "metadata": {},
   "source": [
    "Por lo que nuestro laplaciano es:\n",
    "$$\\nabla ^{2}f(r,\\theta,t)=\\frac{f(r+h,\\theta,t)+f(r-h,\\theta,t)-2f(r,\\theta,t)}{h^2} + \\frac {f(r+h,\\theta,t)-f(r-h,\\theta,t)}{2rh} + \\frac{f(r,\\theta+h,t)+f(r,\\theta-h,t)-2f(r,\\theta,t)}{r^2h^2}$$\n",
    "\n",
    "En nuestro caso además el operador diferencial por discretizar es $k\\frac{\\partial}{\\partial t} -\\nabla^2$, por lo cual queda discretizado por:\n",
    "\n",
    "$$k\\frac {f(r,\\theta,t+s)-f(r,\\theta,t-s)}{2s} - \\frac{f(r+h,\\theta,t)+f(r-h,\\theta,t)-2f(r,\\theta,t)}{h^2} + \\frac {f(r+h,\\theta,t)-f(r-h,\\theta,t)}{2rh} + \\frac{f(r,\\theta+h,t)+f(r,\\theta-h,t)-2f(r,\\theta,t)}{r^2h^2}$$"
   ]
  },
  {
   "cell_type": "markdown",
   "metadata": {},
   "source": [
    "Antes de crear el programa vamos a analizar la ruta que debemos seguir para aplicar diferencias finitas:\n",
    "\n",
    "Tomando una malla homogenea que dé el usuario através del parámetro $h_0$, el cual implementaremos con linspace\n",
    "\n",
    "reescribimos nuestra fórmula como :\n",
    "$$k\\frac {f_{ijk+1}-f_{ijk-1}}{2h} - \\frac{f_{i+1jk}-2f_{ijk}+f_{i-1jk}}{h^2} + \\frac {f_{i+1jk}-f_{i-1jk}}{2rh} + \\frac{f_{ij+1k}-2f_{ijk}+f_{ij-1k}}{r^2h^2}$$"
   ]
  },
  {
   "cell_type": "code",
   "execution_count": null,
   "metadata": {},
   "outputs": [],
   "source": []
  },
  {
   "cell_type": "code",
   "execution_count": null,
   "metadata": {},
   "outputs": [],
   "source": []
  },
  {
   "cell_type": "code",
   "execution_count": null,
   "metadata": {},
   "outputs": [],
   "source": []
  },
  {
   "cell_type": "code",
   "execution_count": null,
   "metadata": {},
   "outputs": [],
   "source": []
  },
  {
   "cell_type": "markdown",
   "metadata": {},
   "source": [
    "Referencias.\n",
    "\n",
    "[1] http://mmc.geofisica.unam.mx/acl/EDP/F_M/FDM/Introducci%C3%B3n%20al%20M%C3%A9todo%20de%20Diferencias%20Finitas%20y%20su%20Implementaci%C3%B3n%20Computacional.pdf, 21/11/2017,9:19 am"
   ]
  },
  {
   "cell_type": "code",
   "execution_count": null,
   "metadata": {},
   "outputs": [],
   "source": []
  }
 ],
 "metadata": {
  "kernelspec": {
   "display_name": "Julia 0.5.2",
   "language": "julia",
   "name": "julia-0.5"
  },
  "language_info": {
   "file_extension": ".jl",
   "mimetype": "application/julia",
   "name": "julia",
   "version": "0.5.2"
  }
 },
 "nbformat": 4,
 "nbformat_minor": 2
}
