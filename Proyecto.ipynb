{
 "cells": [
  {
   "cell_type": "markdown",
   "metadata": {},
   "source": [
    "# Solución a la Ecuación de Calor Bidimensional"
   ]
  },
  {
   "cell_type": "markdown",
   "metadata": {},
   "source": [
    "## Con Condiciones de Dirichlet en Coordenadas Polares"
   ]
  },
  {
   "cell_type": "markdown",
   "metadata": {},
   "source": [
    "Le ecuación de calor en general es:\n",
    "\n",
    "$$\\displaystyle {k\\frac {\\partial u}{\\partial t}}-\\nabla ^{2}u=0$$\n",
    "\n",
    "Para está parte crearemos una función que sea solución de la ecuación en una región polar del tipo $ 0\\leq r \\leq a; 0 \\leq \\theta \\leq \\alpha ; t\\geq 0 $ Para esto se usará las siguientes condiciones de frontera.\n",
    " $$ u(r,0,t)= f(r,t); u(r,\\alpha,t)=g(r,t); u(a,\\theta,t)=h(\\theta,t); u(r, \\theta,0)=p(r,\\theta)$$\n",
    " Evidentemente nuestra función va a recibir a $k, a, \\alpha, f, g, h$ y $p$. Además con el fin de discretizar solo se ocupará un intervalo de tiempo finito $[0,t_0]$ y una malla para $r \\theta$ la cual determinará el usuario.\n",
    " \n",
    " Antes realizar el programa hay que discretizar $\\nabla^2$ en coordenadas polares, puesto que ya sabemos como discretizar $\\partial_t$, para ello recordemos lo siguiente:\n",
    " \n",
    "$$\\Delta f=\\nabla ^{2}f={\\partial ^{2}f \\over \\partial r ^{2}}+{1 \\over r }{\\partial f \\over \\partial r }+{1 \\over r ^{2}}{\\partial ^{2}f \\over \\partial \\varphi ^{2}}$$\n",
    "\n",
    "Tomando las aproximaciones\n",
    "$$\\frac {\\partial^2 f(r,\\theta)}{\\partial r^2} \\approx \\frac{f(r+h,\\theta)+f(r-h,\\theta)-2f(r,\\theta)}{h^2}$$\n"
   ]
  },
  {
   "cell_type": "markdown",
   "metadata": {},
   "source": []
  }
 ],
 "metadata": {
  "kernelspec": {
   "display_name": "Julia 0.5.2",
   "language": "julia",
   "name": "julia-0.5"
  },
  "language_info": {
   "file_extension": ".jl",
   "mimetype": "application/julia",
   "name": "julia",
   "version": "0.5.2"
  }
 },
 "nbformat": 4,
 "nbformat_minor": 2
}
