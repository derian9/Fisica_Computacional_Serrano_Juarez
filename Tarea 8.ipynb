{
 "cells": [
  {
   "cell_type": "markdown",
   "metadata": {},
   "source": [
    "# Tarea 8"
   ]
  },
  {
   "cell_type": "markdown",
   "metadata": {},
   "source": [
    "# Diferencias finitas"
   ]
  },
  {
   "cell_type": "markdown",
   "metadata": {},
   "source": [
    "La idea detrás de las diferencias finitas es la de aproximar la derivada de una función $f$ en un punto $x_0$. En primer lugar, recordamos la definición de la derivada:\n",
    "$$f'(x) = \\lim_{h\\to0}\\frac{f(x+h)-f(x)}{h}$$"
   ]
  },
  {
   "cell_type": "code",
   "execution_count": 22,
   "metadata": {
    "collapsed": false
   },
   "outputs": [
    {
     "name": "stderr",
     "output_type": "stream",
     "text": [
      "\u001b[1m\u001b[36mINFO: \u001b[39m\u001b[22m\u001b[36mPackage SymPy is already installed\n",
      "\u001b[39m\u001b[1m\u001b[36mINFO: \u001b[39m\u001b[22m\u001b[36mMETADATA is out-of-date — you may not have the latest version of SymPy\n",
      "\u001b[39m\u001b[1m\u001b[36mINFO: \u001b[39m\u001b[22m\u001b[36mUse `Pkg.update()` to get the latest versions of your packages\n",
      "\u001b[39m"
     ]
    }
   ],
   "source": [
    "Pkg.add(\"SymPy\")"
   ]
  },
  {
   "cell_type": "code",
   "execution_count": 23,
   "metadata": {
    "collapsed": false
   },
   "outputs": [
    {
     "data": {
      "text/plain": [
       "f (generic function with 1 method)"
      ]
     },
     "execution_count": 23,
     "metadata": {},
     "output_type": "execute_result"
    }
   ],
   "source": [
    "f(x)=x  #Definimos nuestra función de interés."
   ]
  },
  {
   "cell_type": "code",
   "execution_count": 24,
   "metadata": {
    "collapsed": false
   },
   "outputs": [
    {
     "ename": "LoadError",
     "evalue": "\u001b[91msyntax: \"Sym(f)\" is not a valid function argument name\u001b[39m",
     "output_type": "error",
     "traceback": [
      "\u001b[91msyntax: \"Sym(f)\" is not a valid function argument name\u001b[39m",
      ""
     ]
    }
   ],
   "source": [
    "function derivada_num(Sym(f),x,h) #Nombramos nuestra función \"derivada númerica\" con sus respectivas variables.\n",
    "    \n",
    "       df=(f(x+h)-f(x))/h #Introducimos la noción de derivada (la fórmula anteriormente vista).\n",
    "    \n",
    "end\n",
    "    "
   ]
  },
  {
   "cell_type": "code",
   "execution_count": 25,
   "metadata": {
    "collapsed": false,
    "scrolled": true
   },
   "outputs": [
    {
     "data": {
      "text/plain": [
       "1.0"
      ]
     },
     "execution_count": 25,
     "metadata": {},
     "output_type": "execute_result"
    }
   ],
   "source": [
    "derivada_num(f,1,0.7) #Evaluamos nuestra función de prueba ya definida."
   ]
  },
  {
   "cell_type": "markdown",
   "metadata": {},
   "source": [
    "Listo! Nuestra función derivada númerica funciona."
   ]
  },
  {
   "cell_type": "markdown",
   "metadata": {
    "collapsed": true
   },
   "source": [
    "##### Ejercicio 2. Utiliza tu función derivadaNumerica para calcular la derivada de la función  coscos  en un punto  $x_0∈[0,1)$. Grafica el comportamiento de la derivada y muestra como converge al valor exacto conforme tomamos  hh 's cada vez más pequeño."
   ]
  },
  {
   "cell_type": "code",
   "execution_count": 30,
   "metadata": {
    "collapsed": false,
    "scrolled": true
   },
   "outputs": [
    {
     "name": "stderr",
     "output_type": "stream",
     "text": [
      "\u001b[1m\u001b[36mINFO: \u001b[39m\u001b[22m\u001b[36mPackage PyPlot is already installed\n",
      "\u001b[39m\u001b[1m\u001b[36mINFO: \u001b[39m\u001b[22m\u001b[36mMETADATA is out-of-date — you may not have the latest version of PyPlot\n",
      "\u001b[39m\u001b[1m\u001b[36mINFO: \u001b[39m\u001b[22m\u001b[36mUse `Pkg.update()` to get the latest versions of your packages\n",
      "\u001b[39m"
     ]
    }
   ],
   "source": [
    "Pkg.add(\"PyPlot\") #Instalamos las paqueterias para graficar."
   ]
  },
  {
   "cell_type": "code",
   "execution_count": 31,
   "metadata": {
    "collapsed": true
   },
   "outputs": [],
   "source": [
    "using PyPlot"
   ]
  },
  {
   "cell_type": "code",
   "execution_count": 26,
   "metadata": {
    "collapsed": false,
    "scrolled": true
   },
   "outputs": [
    {
     "data": {
      "text/plain": [
       "g (generic function with 1 method)"
      ]
     },
     "execution_count": 26,
     "metadata": {},
     "output_type": "execute_result"
    }
   ],
   "source": [
    "g(x)=cos(x) #Definimos la función coseno."
   ]
  },
  {
   "cell_type": "code",
   "execution_count": 27,
   "metadata": {
    "collapsed": false
   },
   "outputs": [
    {
     "data": {
      "text/plain": [
       "-0.000249999994705874"
      ]
     },
     "execution_count": 27,
     "metadata": {},
     "output_type": "execute_result"
    }
   ],
   "source": [
    "derivada_num(g,0,0.0005) #Calculamos la derivada de coseno en el punto 0."
   ]
  },
  {
   "cell_type": "code",
   "execution_count": 28,
   "metadata": {
    "collapsed": false
   },
   "outputs": [
    {
     "data": {
      "text/plain": [
       "0.0"
      ]
     },
     "execution_count": 28,
     "metadata": {},
     "output_type": "execute_result"
    }
   ],
   "source": [
    "-1*sin(0) #Esta es la respuesta exacta."
   ]
  },
  {
   "cell_type": "code",
   "execution_count": 50,
   "metadata": {
    "collapsed": false
   },
   "outputs": [
    {
     "data": {
      "image/png": "[encoded data removed]",
      "text/plain": [
       "PyPlot.Figure(PyObject <matplotlib.figure.Figure object at 0x7f36c10e6350>)"
      ]
     },
     "metadata": {},
     "output_type": "display_data"
    },
    {
     "data": {
      "text/plain": [
       "(-0.005, 0.005)"
      ]
     },
     "execution_count": 50,
     "metadata": {},
     "output_type": "execute_result"
    }
   ],
   "source": [
    "hs=[0.5,0.1,0.005,0.001,0.0001,0.00001]\n",
    "list=[]\n",
    "for i in hs\n",
    "    push!(list,1/i)\n",
    "end\n",
    "list2=[]\n",
    "for j in hs\n",
    "    push!(list2,derivada_num(g,0,j))\n",
    "end\n",
    "scatter(list,list2)\n",
    "ylim(-.005,.005)"
   ]
  },
  {
   "cell_type": "code",
   "execution_count": 57,
   "metadata": {
    "collapsed": false
   },
   "outputs": [
    {
     "data": {
      "image/png": "[encoded data removed]",
      "text/plain": [
       "PyPlot.Figure(PyObject <matplotlib.figure.Figure object at 0x7f36c10f1790>)"
      ]
     },
     "metadata": {},
     "output_type": "display_data"
    }
   ],
   "source": [
    "hs=[0.08,0.05,0.1,.01,0.0001,0.00005,0.00001,0.000001,0.0000000001]\n",
    "for n in hs\n",
    "scatter(n,derivada_num(g,0,n))\n",
    "end\n",
    "\n"
   ]
  },
  {
   "cell_type": "markdown",
   "metadata": {
    "collapsed": true
   },
   "source": [
    "#### Ejercicio 7: Explotar la relación $\\delta_h=\\Delta_h-\\Delta_{-h}$, donde $\\delta_h:f(x)\\mapsto f(x+h)-f(x-h)$, para encontrar cual es la función $\\theta$ que relaciona a $\\delta_h$ con el operador derivada exacta, es decir:"
   ]
  },
  {
   "cell_type": "markdown",
   "metadata": {},
   "source": [
    "$$\\delta_h=\\theta\\left(h\\left. \\frac{d}{d\\\\xi}\\right|_{\\xi=x}\\right)$$"
   ]
  },
  {
   "cell_type": "markdown",
   "metadata": {},
   "source": [
    "#### Una vez que la encuentren, despejen $\\left. \\frac{d}{d\\xi}\\right|_{\\xi=x}$ y calculen la serie de Taylor de mánera similar a lo mostrado en las ecuaciones 3 y 4."
   ]
  },
  {
   "cell_type": "markdown",
   "metadata": {},
   "source": [
    "Usando $\\delta_h=\\Delta_h-\\Delta_{-h}$, tenemos que  dada la definición para diferencias finitas:\n",
    "$$ \\delta_h=e^{h\\frac{d}{d\\xi}\\mid_{\\xi=x}}-1-(e^{-h\\frac{d}{d\\xi}\\mid_{\\xi=x}}-1) $$\n",
    "\n",
    "Por lo que tendriamos al final de cuentas: $$ \\delta_h=e^{h\\frac{d}{d\\xi}\\mid_{\\xi=x}}-e^{-h\\frac{d}{d\\xi}\\mid_{\\xi=x}} $$\n",
    "\n",
    "Ahora si recordamos la igualdad $2\\sinh\\left(x \\right)$ = $e^x-e^{-x}$, sustituyendo obtenemos:\n",
    "$$ \\delta_h=2\\sinh\\left( h\\frac{d}{d\\xi}\\mid_{\\xi=x} \\right) $$\n",
    "\n",
    "$$\\Rightarrow \\frac{1}{h}senh^{-1}\\left( \\frac{\\delta_h}{2} \\right)=\\frac{d}{d\\xi}\\mid_{\\xi=x} $$\n",
    "\n",
    "\n",
    "Bien, utlizando la serie de Taylor del $senh$ tenmos la expansión:\n",
    "\n",
    "$$\\frac{1}{h}senh^{-1}\\left( \\frac{\\delta_h}{2} \\right) = \\sum_{n=0}^\\infty \\left( \\frac {(-1)^n(2n)!} {2^{2n}(n!)^2} \\right) \\frac {(\\delta_h)^{2n+1}} {(2n+1)}$$ Debido a que $$\\left| \\frac{\\delta_h}{2} \\right| < 1$$$\n"
   ]
  }
 ],
 "metadata": {
  "kernelspec": {
   "display_name": "Julia 0.6.0",
   "language": "julia",
   "name": "julia-0.6"
  },
  "language_info": {
   "file_extension": ".jl",
   "mimetype": "application/julia",
   "name": "julia",
   "version": "0.6.0"
  }
 },
 "nbformat": 4,
 "nbformat_minor": 2
}
