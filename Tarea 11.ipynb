{
 "cells": [
  {
   "cell_type": "markdown",
   "metadata": {},
   "source": [
    "# Tarea 11\n",
    "\n",
    "#### Ejercicio 1:. Implementa el método de Euler en Julia. Debe ser de la forma metodo_euler(f,x0,t0,tf,h). Naturalmente la función f es de dos variables. El output de la función debe ser return listt,listx. \n",
    "Utilizando el método de Euler, se implementa la siguiente fórmula de recurrencia:\n",
    "$$x_{k+1}=x_k+f(x_k,t_k)h,$$\n",
    "donde $x_k=x(t_k)$ y $t_k=h k.$"
   ]
  },
  {
   "cell_type": "code",
   "execution_count": 1,
   "metadata": {
    "collapsed": false
   },
   "outputs": [
    {
     "data": {
      "text/plain": [
       "método_euler (generic function with 1 method)"
      ]
     },
     "execution_count": 1,
     "metadata": {},
     "output_type": "execute_result"
    }
   ],
   "source": [
    "function método_euler(f,x0,t0,tf,h)\n",
    "    x=x0\n",
    "    t=t0\n",
    "    listx=[]\n",
    "    listt=[]\n",
    "    for i in 0:h\n",
    "        listx[i]=x+h*f(x,t)\n",
    "        listt[i]=h*t\n",
    "    end\n",
    "return listx,list\n",
    "    \n",
    "end"
   ]
  },
  {
   "cell_type": "code",
   "execution_count": 6,
   "metadata": {
    "collapsed": false
   },
   "outputs": [
    {
     "data": {
      "text/plain": [
       "f (generic function with 1 method)"
      ]
     },
     "execution_count": 6,
     "metadata": {},
     "output_type": "execute_result"
    }
   ],
   "source": [
    "f(x,t)=x+5*t"
   ]
  },
  {
   "cell_type": "code",
   "execution_count": 7,
   "metadata": {
    "collapsed": false
   },
   "outputs": [
    {
     "ename": "LoadError",
     "evalue": "\u001b[91mArgumentError: invalid index: 0.0\u001b[39m",
     "output_type": "error",
     "traceback": [
      "\u001b[91mArgumentError: invalid index: 0.0\u001b[39m",
      "",
      "Stacktrace:",
      " [1] \u001b[1mmétodo_euler\u001b[22m\u001b[22m\u001b[1m(\u001b[22m\u001b[22m::#f, ::Int64, ::Int64, ::Int64, ::Float64\u001b[1m)\u001b[22m\u001b[22m at \u001b[1m./In[1]:7\u001b[22m\u001b[22m"
     ]
    }
   ],
   "source": [
    "método_euler(f,1,3,1,.5)"
   ]
  },
  {
   "cell_type": "code",
   "execution_count": null,
   "metadata": {
    "collapsed": true
   },
   "outputs": [],
   "source": []
  }
 ],
 "metadata": {
  "kernelspec": {
   "display_name": "Julia 0.6.0",
   "language": "julia",
   "name": "julia-0.6"
  },
  "language_info": {
   "file_extension": ".jl",
   "mimetype": "application/julia",
   "name": "julia",
   "version": "0.6.0"
  }
 },
 "nbformat": 4,
 "nbformat_minor": 2
}
