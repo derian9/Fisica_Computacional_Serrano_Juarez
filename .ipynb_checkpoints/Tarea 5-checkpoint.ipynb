{
 "cells": [
  {
   "cell_type": "markdown",
   "metadata": {},
   "source": [
    "# Métodos de Integración"
   ]
  },
  {
   "cell_type": "markdown",
   "metadata": {},
   "source": [
    "## Método de integración de Riemann"
   ]
  },
  {
   "cell_type": "markdown",
   "metadata": {},
   "source": [
    "Este método consiste en realizar un número finito de rectángulos dentro de un aŕea (al área a calcular). obteniendo al área de cada uno de ellos y sumarlos para aproximar la integración. Cabe señalar que se tiene un margen de error relativamente grande."
   ]
  },
  {
   "cell_type": "markdown",
   "metadata": {},
   "source": [
    "Sea $f$ una función tal que $f(A)\\rightarrow (B)$ con A un subconjunto de B.\n",
    "Sea $I=[a,b]$ un  intervalo cerrando tal que I es subconjunto de A.\n",
    "\n",
    "\n",
    "\n"
   ]
  },
  {
   "cell_type": "markdown",
   "metadata": {},
   "source": [
    "Considerando un conjunto finito de puntos $ \\\\{x_0, x_1, x_2, ...x_n\\\\} $ tales que $ a=x_0 < x_1 < x_2 < ... < x_n = b $ tal que crean una particion de l: $ P = \\{[x_0, x_1], [x_1, x_2], ...[x_{n-1}, x_n]\\} $"
   ]
  },
  {
   "cell_type": "markdown",
   "metadata": {},
   "source": [
    "Entonces, si $P$ es una partición de $n$ elementos del intervalo $I$, la Suma de Riemman de $f$ sobre $I$ dada esa partición está dada de la forma:"
   ]
  },
  {
   "cell_type": "markdown",
   "metadata": {},
   "source": [
    "$$ S=\\sum _{i=0} ^n f(y_i)(x_i-x_{i-1}) $$"
   ]
  },
  {
   "cell_type": "markdown",
   "metadata": {},
   "source": [
    "Para este método se considera el valor de una función $f$ en un intervalo y como este se aproxima por el promedio de los valores de los extremos izquierdo y derecho.\n"
   ]
  },
  {
   "cell_type": "markdown",
   "metadata": {},
   "source": [
    "## Regla del trapecio"
   ]
  },
  {
   "cell_type": "markdown",
   "metadata": {},
   "source": [
    "En este caso el valor de la función se aproxima por el promedio de los valores extremales. Esto usando la fórmula del aŕea(para el trapecio con lados paralelos b1 y b2, y una altura h)."
   ]
  },
  {
   "cell_type": "markdown",
   "metadata": {},
   "source": [
    "$$ A=\\frac{1}{2}h(b_1+b_2) $$"
   ]
  },
  {
   "cell_type": "markdown",
   "metadata": {},
   "source": [
    "$$ \\frac{1}{2}Q[f(a)+2f(a+Q)+2f(a+2q)+2f(a+3Q)...+f(b)] $$"
   ]
  },
  {
   "cell_type": "markdown",
   "metadata": {},
   "source": [
    "La aproximación obtenida con la suma trapezoidal para una función es igual al promedio de las sumas izquierda y derecha de Riemann. El error de esta estará dado por:"
   ]
  },
  {
   "cell_type": "markdown",
   "metadata": {},
   "source": [
    "$$ | \\int _a ^b f(x) dx - A_{trapezoidal} \\quad | \\leq \\frac{M_2(b-a)^3}{12n^2}$$"
   ]
  },
  {
   "cell_type": "markdown",
   "metadata": {},
   "source": [
    "Donde M2 es el valor máximo del valor absoluto de f\"(x)."
   ]
  },
  {
   "cell_type": "markdown",
   "metadata": {},
   "source": [
    "## Regla de Simpson"
   ]
  },
  {
   "cell_type": "markdown",
   "metadata": {},
   "source": [
    "Método utilizado es similar a la regla del trapecio, solo que aquí se aproximan los intervalos de $f$ mediante polinomios de segundo grado."
   ]
  },
  {
   "cell_type": "markdown",
   "metadata": {},
   "source": [
    "La integral se define como:"
   ]
  },
  {
   "cell_type": "markdown",
   "metadata": {},
   "source": [
    "$$ \\int _a ^b f(x) dz= \\frac{b-a}{6}[f(a)+4f(\\frac{a+b}{2}+f(b)]$$"
   ]
  },
  {
   "cell_type": "markdown",
   "metadata": {},
   "source": [
    "Con un error dado por la fórmula:"
   ]
  },
  {
   "cell_type": "markdown",
   "metadata": {},
   "source": [
    "$$ |E(f)| = \\int_{a}^{b} f(x) \\, dx - \\int_{a}^{b} P_2(x) \\, dx| \\leq \\frac{h^5}{90}f^{(4)}( \\epsilon )\\ $$"
   ]
  }
 ],
 "metadata": {
  "kernelspec": {
   "display_name": "Julia 0.6.0",
   "language": "julia",
   "name": "julia-0.6"
  },
  "language_info": {
   "file_extension": ".jl",
   "mimetype": "application/julia",
   "name": "julia",
   "version": "0.6.0"
  }
 },
 "nbformat": 4,
 "nbformat_minor": 2
}
