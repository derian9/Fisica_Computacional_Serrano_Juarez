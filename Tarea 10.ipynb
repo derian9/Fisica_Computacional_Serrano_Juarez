{
 "cells": [
  {
   "cell_type": "markdown",
   "metadata": {},
   "source": [
    "# Tarea 10\n",
    "\n",
    "### Editar las rutinas presentadas en esta clase para calcular la derivada hacia adelante a orden más alto, pero en esta ocasión para el operador derivada simetrizada. No olvide hacer el test de la rutina, similar a lo que se hizo en este notebook para el $cos$.\n",
    "\n",
    "#### Algoritmo para calcular automáticamente las diferencias finitas de $f(x)$ a ordenes más altos"
   ]
  },
  {
   "cell_type": "code",
   "execution_count": 1,
   "metadata": {
    "collapsed": false
   },
   "outputs": [
    {
     "name": "stderr",
     "output_type": "stream",
     "text": [
      "\u001b[1m\u001b[36mINFO: \u001b[39m\u001b[22m\u001b[36mRecompiling stale cache file /home/juser/.julia/lib/v0.6/SymPy.ji for module SymPy.\n",
      "\u001b[39m"
     ]
    }
   ],
   "source": [
    "using SymPy"
   ]
  },
  {
   "cell_type": "code",
   "execution_count": 23,
   "metadata": {
    "collapsed": true
   },
   "outputs": [],
   "source": [
    "function coeff_Taylor_Asinh(i) # En SymPy la función arcsenh está expresado por asinh.\n",
    "x=Sym(\"x\");\n",
    "h=Sym(\"h\");\n",
    "    N(subs(diff(asinh(x/2.0),x,i)/factorial(Float64(i)),x=>0))\n",
    "end;\n",
    "\n",
    "function coeff_Taylor_Asinh_rational(i)\n",
    "    subs(diff(asinh(x/2.0),x,i)/factorial(i),x=>0)\n",
    "end;\n",
    "\n",
    "function finite_difference_symmetric(f)\n",
    "    return (x,h)->f(x+h,h)-f(x-h,h) # Diferencia finita simétrica.\n",
    "end;"
   ]
  },
  {
   "cell_type": "code",
   "execution_count": 24,
   "metadata": {
    "collapsed": false,
    "scrolled": true
   },
   "outputs": [
    {
     "data": {
      "text/latex": [
       "$$- g{\\left (- h + x \\right )} + g{\\left (h + x \\right )}$$"
      ],
      "text/plain": [
       "-g(-h + x) + g(h + x)"
      ]
     },
     "execution_count": 24,
     "metadata": {},
     "output_type": "execute_result"
    }
   ],
   "source": [
    "g=SymFunction(\"g\");\n",
    "rr(x,h)=g(x)\n",
    "rr(Sym(\"x\"),Sym(\"h\"))\n",
    "gg=finite_difference_symmetric(rr);\n",
    "gg(Sym(\"x\"),Sym(\"h\"))"
   ]
  },
  {
   "cell_type": "code",
   "execution_count": 25,
   "metadata": {
    "collapsed": false
   },
   "outputs": [
    {
     "data": {
      "text/latex": [
       "$$- 2 g{\\left (x \\right )} + g{\\left (- 2 h + x \\right )} + g{\\left (2 h + x \\right )}$$"
      ],
      "text/plain": [
       "-2*g(x) + g(-2*h + x) + g(2*h + x)"
      ]
     },
     "execution_count": 25,
     "metadata": {},
     "output_type": "execute_result"
    }
   ],
   "source": [
    "gg=finite_difference_symmetric(gg);\n",
    "gg(Sym(\"x\"),Sym(\"h\"))"
   ]
  },
  {
   "cell_type": "code",
   "execution_count": 26,
   "metadata": {
    "collapsed": false
   },
   "outputs": [
    {
     "data": {
      "text/latex": [
       "$$- g{\\left (- 3 h + x \\right )} + 3 g{\\left (- h + x \\right )} - 3 g{\\left (h + x \\right )} + g{\\left (3 h + x \\right )}$$"
      ],
      "text/plain": [
       "-g(-3*h + x) + 3*g(-h + x) - 3*g(h + x) + g(3*h + x)"
      ]
     },
     "execution_count": 26,
     "metadata": {},
     "output_type": "execute_result"
    }
   ],
   "source": [
    "gg=finite_difference_symmetric(gg);\n",
    "gg(Sym(\"x\"),Sym(\"h\"))"
   ]
  },
  {
   "cell_type": "code",
   "execution_count": 27,
   "metadata": {
    "collapsed": true
   },
   "outputs": [],
   "source": [
    "function Derivative_order(f,x,h,order)\n",
    "    term(x,h)=f(x)\n",
    "    g=term\n",
    "    der=0\n",
    "    for i in range(1,order)\n",
    "        g=finite_difference_symmetric(g)\n",
    "        der=der+coeff_Taylor_Asinh(i)*g(x,h)\n",
    "    end\n",
    "    der/h\n",
    "end;\n",
    "function Derivative_order_rational_coefficients(f,x,h,order)\n",
    "    term(x,h)=f(x)\n",
    "    g=term\n",
    "    der=0\n",
    "    for i in range(1,order)\n",
    "        g=finite_difference_symmetric(g)\n",
    "        der=der+coeff_Taylor_Asinh_rational(i)*g(x,h)\n",
    "    end\n",
    "    der/h\n",
    "end;"
   ]
  },
  {
   "cell_type": "markdown",
   "metadata": {},
   "source": [
    "Ahora realizando lo mismo hecho en el ejercicio 2 calculamos la derivada de la función $\\cos$ en un punto $x_0\\in[0,1)$."
   ]
  },
  {
   "cell_type": "code",
   "execution_count": 28,
   "metadata": {
    "collapsed": false
   },
   "outputs": [
    {
     "data": {
      "text/plain": [
       "-0.7070949961324513"
      ]
     },
     "execution_count": 28,
     "metadata": {},
     "output_type": "execute_result"
    }
   ],
   "source": [
    "Derivative_order(cos,pi/4,0.01,2) #Aproximación mediante el operador"
   ]
  },
  {
   "cell_type": "code",
   "execution_count": 29,
   "metadata": {
    "collapsed": false,
    "scrolled": true
   },
   "outputs": [
    {
     "data": {
      "text/plain": [
       "-0.7071067811865475"
      ]
     },
     "execution_count": 29,
     "metadata": {},
     "output_type": "execute_result"
    }
   ],
   "source": [
    "-sin(pi/4) #Valor de la derivada exacta"
   ]
  },
  {
   "cell_type": "code",
   "execution_count": 35,
   "metadata": {
    "collapsed": true
   },
   "outputs": [],
   "source": [
    "f=SymFunction(\"f\");\n",
    "x=Sym(\"x\");\n",
    "h=Sym(\"h\");"
   ]
  },
  {
   "cell_type": "code",
   "execution_count": 36,
   "metadata": {
    "collapsed": false
   },
   "outputs": [
    {
     "data": {
      "text/latex": [
       "$$\\frac{1}{h} \\left(- 0.5 f{\\left (- h + x \\right )} + 0.5 f{\\left (h + x \\right )}\\right)$$"
      ],
      "text/plain": [
       "-0.5*f(-h + x) + 0.5*f(h + x)\n",
       "-----------------------------\n",
       "              h              "
      ]
     },
     "execution_count": 36,
     "metadata": {},
     "output_type": "execute_result"
    }
   ],
   "source": [
    "aprox=Derivative_order_rational_coefficients(SymFunction(\"f\"),Sym(\"x\"),Sym(\"h\"),1)"
   ]
  },
  {
   "cell_type": "code",
   "execution_count": 37,
   "metadata": {
    "collapsed": false
   },
   "outputs": [
    {
     "data": {
      "text/latex": [
       "$$1.0 \\left. \\frac{d}{d \\xi_{1}} f{\\left (\\xi_{1} \\right )} \\right|_{\\substack{ \\xi_{1}=x }} + 0.166666666666667 h^{2} \\left. \\frac{d^{3}}{d \\xi_{1}^{3}}  f{\\left (\\xi_{1} \\right )} \\right|_{\\substack{ \\xi_{1}=x }} + 0.00833333333333333 h^{4} \\left. \\frac{d^{5}}{d \\xi_{1}^{5}}  f{\\left (\\xi_{1} \\right )} \\right|_{\\substack{ \\xi_{1}=x }} + \\mathcal{O}\\left(h^{5}\\right)$$"
      ],
      "text/plain": [
       "                                                   /   3           \\|         \n",
       "    /  d           \\|                            2 |  d            ||         \n",
       "1.0*|-----(f(xi_1))||       + 0.166666666666667*h *|------(f(xi_1))||       + \n",
       "    \\dxi_1         /|xi_1=x                        |     3         ||         \n",
       "                                                   \\dxi_1          /|xi_1=x   \n",
       "\n",
       "                       /   5           \\|              \n",
       "                     4 |  d            ||          / 5\\\n",
       "0.00833333333333333*h *|------(f(xi_1))||       + O\\h /\n",
       "                       |     5         ||              \n",
       "                       \\dxi_1          /|xi_1=x        "
      ]
     },
     "execution_count": 37,
     "metadata": {},
     "output_type": "execute_result"
    }
   ],
   "source": [
    "series(aprox,h,0,5)"
   ]
  },
  {
   "cell_type": "code",
   "execution_count": null,
   "metadata": {
    "collapsed": true
   },
   "outputs": [],
   "source": []
  }
 ],
 "metadata": {
  "kernelspec": {
   "display_name": "Julia 0.6.0",
   "language": "julia",
   "name": "julia-0.6"
  },
  "language_info": {
   "file_extension": ".jl",
   "mimetype": "application/julia",
   "name": "julia",
   "version": "0.6.0"
  }
 },
 "nbformat": 4,
 "nbformat_minor": 2
}
