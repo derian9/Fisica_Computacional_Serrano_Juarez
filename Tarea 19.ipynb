{
 "cells": [
  {
   "cell_type": "markdown",
   "metadata": {},
   "source": [
    "# Tarea 19\n",
    "## Ecuaciones diferenciales parciales"
   ]
  },
  {
   "cell_type": "markdown",
   "metadata": {},
   "source": [
    "__Ejercicio1__: Escriba la forma del operador laplaciano utilizando diferencias finitas simétricas.\n"
   ]
  },
  {
   "cell_type": "markdown",
   "metadata": {},
   "source": [
    "Tomemos $$f(x+h,y,z)\\approx f(x,y,z)+h\\frac {\\partial f(x,y,z)}{\\partial x}+\\frac{{h^2}}{2}\\frac {\\partial^2 f(x,y,z)}{\\partial x^2}$$ y $$f(x-h,y,z)\\approx f(x,y,z)-h\\frac {\\partial f(x,y,z)}{\\partial x}+\\frac{{h^2}}{2}\\frac {\\partial^2 f(x,y,z)}{\\partial x^2}$$\n",
    "\n",
    "Al sumarlas tenemos $f(x+h,y,z)+f(x-h,y,z) \\approx f(x,y,z)+h\\frac {\\partial f(x,y,z)}{\\partial x}+\\frac{{h^2}}{2}\\frac {\\partial^2 f(x,y,z)}{\\partial x^2}+f(x,y,z)-h\\frac {\\partial f(x,y,z)}{\\partial x}+\\frac{{h^2}}{2}\\frac {\\partial^2 f(x,y,z)}{\\partial x^2}$\n",
    "\n",
    "$$\\Rightarrow f(x+h,y,z)+f(x-h,y,z) \\approx 2f(x,y,z)+h^2\\frac {\\partial^2 f(x,y,z)}{\\partial x^2}$$\n",
    "\n",
    "Por lo que nuestra aproximación queda de la forma:\n",
    "$$\\frac {\\partial^2 f(x,y,z)}{\\partial x^2} \\approx \\frac{f(x+h,y,z)+f(x-h,y,z)-2f(x,y,z)}{h^2}$$"
   ]
  },
  {
   "cell_type": "markdown",
   "metadata": {},
   "source": [
    "Ánalogamente con las otras dos cordenadas el laplaciano queda como:\n",
    "\n",
    "$$\\nabla^2f(x,y,z)=\\frac{\\partial^2 f(x,y,z)}{\\partial x^2} + \\frac {\\partial^2 f(x,y,z)}{\\partial y^2}+\\frac{\\partial^2 f(x,y,z)}{\\partial z^2}$$\n",
    "\n",
    "$$\\nabla^2f(x,y,z)\\approx \\frac{f(x+h,y,z)+f(x-h,y,z)-2f(x,y,z)}{h^2} + \\frac{f(x,y+h,z)+f(x,y-h,z)-2f(x,y,z)}{h^2} + \\frac{f(x,y,z+h)+f(x,y,z-h)-2f(x,y,z)}{h^2}$$"
   ]
  },
  {
   "cell_type": "markdown",
   "metadata": {},
   "source": [
    "__Ejercicio condiciones a la frontera de Dirichlet__. Discretice la ecuación \n",
    "$$ \\frac{d^2f}{dx^2}=0 $$\n",
    "en el intervalo $[0,1]$, y aplicando el operador laplaciano discretizado obtenga el sistema de ecuaciones algebraicas lineales correspondientes al problema de _Dirichlet_:\n",
    "$f(0) = a$ y $f(1) = b$ dividiendo el intervalo $[0,1]$ en $5$ puntos separados por $h$.\n",
    "\n",
    "* Escriba el sistema lineal de ecuaciones que surge."
   ]
  },
  {
   "cell_type": "markdown",
   "metadata": {},
   "source": [
    "Discretizando la ecuación $$ \\frac{d^2f}{dx^2}\\approx \\frac{f(x+h)+f(x-h)-2f(x)}{h^2}=0$$\n",
    "\n",
    "Tenemos que $$f(x)\\approx \\frac{f(x+h)+f(x-h)}{2}$$"
   ]
  },
  {
   "cell_type": "markdown",
   "metadata": {},
   "source": [
    "Separando el intervalo $[0,1]$ en 5 partes con $h= \\frac{1}{5}$ tomamos $x_i=ih=i\\frac{1}{5}$. Donde $i=1,2,3,4,5.$"
   ]
  },
  {
   "cell_type": "markdown",
   "metadata": {},
   "source": [
    "$$2f(x_i)\\approx f(x_{i+1})+f(x_{i-1})$$"
   ]
  },
  {
   "cell_type": "markdown",
   "metadata": {},
   "source": [
    "$$\\begin{cases}-2f(x_1)+f(x_{2})+f(x_{0})=0\\\\-2f(x_2)+f(x_{3})+f(x_{1})=0\n",
    "\\\\-2f(x_3)+f(x_{4})+f(x_{2})=0\n",
    "\\\\-2f(x_4)+f(x_{5})+f(x_{3})=0\n",
    "\\\\-2f(x_5)+f(x_{6})+f(x_{4})=0 \\end{cases}$$\n",
    "Obtenemos el sistemas de ecuaciones:\n",
    "$$\\begin{cases} -2f(1/5)+f(2/5)+a=0 \n",
    "\\\\-2f(2/5)+f(3/5)+f(1/5)=0 \n",
    "\\\\-2f(3/5)+f(4/5)+f(2/5)=0 \n",
    "\\\\-2f(4/5)+f(1)+f(3/5)=0 \n",
    "\\\\-2b+f(6/5)+f(4/5)=0 \\end{cases}$$"
   ]
  },
  {
   "cell_type": "markdown",
   "metadata": {},
   "source": [
    "__Ejercicio 3 (condiciones a la frontera de Neumann)__. Hacer lo mismo para condiciones de _Neumann_, es decir, fijando en los extremos el valor de la primera derivada de la función. Para esto utilice la derivada _hacia adeltante_ en las orillas, es decir, si $f'(0)=a$ y $f'(1)=b$, entonces $(f_1-f_0)/h=a$, etc. No olvide que debe resultar un sistema de ecuación cuya dimensión sea el número de incognitas.\n",
    "\n",
    "* Escriba el sistema lineal de ecuaciones que surge, usando $\\LaTeX$ en el _notebook_ de la tarea que sigue."
   ]
  },
  {
   "cell_type": "markdown",
   "metadata": {},
   "source": [
    "Tomando la ecuación $$-2f(x_{4})+f(x_{5})+f(x_{3})= 0$$\n",
    "\n",
    "Si tenemos $f'(x_{1}) = f'(0) = a$ y $f'(0)=f'(x_{1})=\\frac{f(x_{1}+h)-f(x_{1})}{h}$ $$\\Rightarrow\n",
    "\\frac{f(x_{2}) - f(x_{1})}{\\frac{1}{4}} =a$$\n",
    "\n",
    "Ánalogamente obtenemos: $$\n",
    "\\frac{f(x_{5}) - f(x_{4})}{\\frac{1}{4}} =b\n",
    "$$"
   ]
  },
  {
   "cell_type": "markdown",
   "metadata": {},
   "source": [
    "Por lo que el sistema que resulta es: \n",
    "$$\\begin{cases} f({x_2})-f({x_1})-ah=0\n",
    "\\\\-2f(2/5)+f(3/5)+f(1/5)=0 \n",
    "\\\\-2f(3/5)+f(4/5)+f(2/5)=0 \n",
    "\\\\-2f(4/5)+f(1)+f(3/5)=0 \n",
    "\\\\ f({x_5})-(f{x_4})-bh=0 \\end{cases}$$"
   ]
  },
  {
   "cell_type": "markdown",
   "metadata": {},
   "source": [
    "__Ejercicio 4 (indexación)__. `Julia` es más eficiente\n",
    "si se utiliza un único índice para acceder a los elementos\n",
    "de una matriz, además que puede simplificar algunos problemas. Escribe una función $\\phi$ que traduzca un par de\n",
    "índices $i,j$ a un único índice $k$, es decir:\n",
    "$$\\phi: (i,j) \\mapsto k.$$\n",
    "También encuentren $\\phi^{-1}$. Note que $\\phi$ deberá depender de las dimensiones del arreglo, por lo menos de una de ellas."
   ]
  },
  {
   "attachments": {},
   "cell_type": "markdown",
   "metadata": {},
   "source": [
    "Supongamos que se tenemos una matriz de $n$ renglones y $m$ columnas. Podemos proponer una función $\\phi$ cuya regla de correspondencia sea: $$\\phi(i,j)=(i-1)m+j=k$$\n",
    "\n",
    "Pero queremos tambien la función inversa. Si suponemos que $i=1$ entonces tendriamos que el mínimo valor posible para $j$ es 1 tambien; mientras que si $i$ tiene su valor máximo igual a $n$, entonces el máximo valor de $j$ debera ser $m$. Entonces $k$ tiene valores entre $k=(i-1)m+1$ y $k=im$. De $k=im$ despejamos $i$ y tendriamos:\n",
    "\n",
    "$$i=\\frac{k}{m}$$ Sustituyendo esto en $\\phi$ y despejando para $j$ llegamos a: $$j=k-(i-1)m=k-(\\frac{k}{m}-1)m=m$$ Con esto obtendriamos: $$\n",
    "\\phi(i,j)=(i-1)m+j\\\\\n",
    "\\phi^{-1}(k)=(\\frac{k}{m}, m) = \\phi^{-1}(k)=(\\frac{k}{m}, k-(\\frac{k}{m}-1)m)\n",
    "$$"
   ]
  }
 ],
 "metadata": {
  "kernelspec": {
   "display_name": "Julia 0.5.2",
   "language": "julia",
   "name": "julia-0.5"
  },
  "language_info": {
   "file_extension": ".jl",
   "mimetype": "application/julia",
   "name": "julia",
   "version": "0.5.2"
  }
 },
 "nbformat": 4,
 "nbformat_minor": 2
}
