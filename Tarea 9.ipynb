{
 "cells": [
  {
   "cell_type": "markdown",
   "metadata": {},
   "source": [
    "# Tarea 9"
   ]
  },
  {
   "cell_type": "markdown",
   "metadata": {},
   "source": [
    "## Derivación Númerica"
   ]
  },
  {
   "cell_type": "markdown",
   "metadata": {},
   "source": [
    "##### Ejercicio 2. Utiliza tu función derivadaNumerica para calcular la derivada de la función  coscos  en un punto  $x_0∈[0,1)$. Grafica el comportamiento de la derivada y muestra como converge al valor exacto conforme tomamos  hh 's cada vez más pequeño."
   ]
  },
  {
   "cell_type": "code",
   "execution_count": 19,
   "metadata": {
    "collapsed": false
   },
   "outputs": [
    {
     "data": {
      "text/plain": [
       "f (generic function with 1 method)"
      ]
     },
     "execution_count": 19,
     "metadata": {},
     "output_type": "execute_result"
    }
   ],
   "source": [
    "f(x)=cos(x) #Definimos la función coseno."
   ]
  },
  {
   "cell_type": "code",
   "execution_count": 20,
   "metadata": {
    "collapsed": false
   },
   "outputs": [
    {
     "data": {
      "text/plain": [
       "derivada_num (generic function with 1 method)"
      ]
     },
     "execution_count": 20,
     "metadata": {},
     "output_type": "execute_result"
    }
   ],
   "source": [
    "function derivada_num(f,x,h) #Nombramos nuestra función \"derivada númerica\" con sus respectivas variables.\n",
    "    \n",
    "       df=(f(x+h)-f(x))/h #Introducimos la noción de derivada (la fórmula anteriormente vista).\n",
    "    \n",
    "end\n",
    "    "
   ]
  },
  {
   "cell_type": "code",
   "execution_count": 21,
   "metadata": {
    "collapsed": false
   },
   "outputs": [
    {
     "data": {
      "text/plain": [
       "-0.000249999994705874"
      ]
     },
     "execution_count": 21,
     "metadata": {},
     "output_type": "execute_result"
    }
   ],
   "source": [
    "derivada_num(g,0,0.0005) #Calculamos la derivada de coseno en el punto 0."
   ]
  },
  {
   "cell_type": "code",
   "execution_count": 36,
   "metadata": {
    "collapsed": false
   },
   "outputs": [
    {
     "data": {
      "text/plain": [
       "-0.0"
      ]
     },
     "execution_count": 36,
     "metadata": {},
     "output_type": "execute_result"
    }
   ],
   "source": [
    "-1*sin(0) #Esta es la respuesta exacta, a la que debe converger nuestra función."
   ]
  },
  {
   "cell_type": "code",
   "execution_count": 23,
   "metadata": {
    "collapsed": false,
    "scrolled": true
   },
   "outputs": [
    {
     "name": "stderr",
     "output_type": "stream",
     "text": [
      "\u001b[1m\u001b[36mINFO: \u001b[39m\u001b[22m\u001b[36mPackage PyPlot is already installed\n",
      "\u001b[39m\u001b[1m\u001b[36mINFO: \u001b[39m\u001b[22m\u001b[36mMETADATA is out-of-date — you may not have the latest version of PyPlot\n",
      "\u001b[39m"
     ]
    }
   ],
   "source": [
    "Pkg.add(\"PyPlot\") #Instalamos las paqueterias para graficar."
   ]
  },
  {
   "cell_type": "code",
   "execution_count": 24,
   "metadata": {
    "collapsed": true
   },
   "outputs": [],
   "source": [
    "using PyPlot"
   ]
  },
  {
   "cell_type": "code",
   "execution_count": 25,
   "metadata": {
    "collapsed": false
   },
   "outputs": [
    {
     "data": {
      "text/plain": [
       "derivada_num2 (generic function with 1 method)"
      ]
     },
     "execution_count": 25,
     "metadata": {},
     "output_type": "execute_result"
    }
   ],
   "source": [
    "function derivada_num2(f,x)\n",
    "list=zeros(100) #Se crea una lista de ceros donde se guardará el valor de la derivada\n",
    "n=1\n",
    "           for i in 1:100 \n",
    "              df=(f(x+(1/n))-f(x))*n #Aplicamos la derivada\n",
    "              list[i]=df; #Asignamos el valor de la derivada a un elemento de la lista\n",
    "              n+=1 # se aumenta el valor de n en cada iteración,aqui h=1/n\n",
    "           end\n",
    "return list \n",
    "end"
   ]
  },
  {
   "cell_type": "code",
   "execution_count": 26,
   "metadata": {
    "collapsed": false,
    "scrolled": true
   },
   "outputs": [
    {
     "data": {
      "text/plain": [
       "100-element Array{Float64,1}:\n",
       " -0.459698  \n",
       " -0.244835  \n",
       " -0.165129  \n",
       " -0.12435   \n",
       " -0.0996671 \n",
       " -0.0831406 \n",
       " -0.0713072 \n",
       " -0.0624187 \n",
       " -0.0554984 \n",
       " -0.0499583 \n",
       " -0.0454232 \n",
       " -0.0416426 \n",
       " -0.0384426 \n",
       "  ⋮         \n",
       " -0.00561792\n",
       " -0.0055555 \n",
       " -0.00549445\n",
       " -0.00543473\n",
       " -0.00537629\n",
       " -0.0053191 \n",
       " -0.00526311\n",
       " -0.00520829\n",
       " -0.00515459\n",
       " -0.005102  \n",
       " -0.00505046\n",
       " -0.00499996"
      ]
     },
     "execution_count": 26,
     "metadata": {},
     "output_type": "execute_result"
    }
   ],
   "source": [
    "list1=derivada_num2(f,0)"
   ]
  },
  {
   "cell_type": "code",
   "execution_count": 62,
   "metadata": {
    "collapsed": false
   },
   "outputs": [
    {
     "data": {
      "image/png": "[encoded data removed]",
      "text/plain": [
       "PyPlot.Figure(PyObject <matplotlib.figure.Figure object at 0x7f6e4b700510>)"
      ]
     },
     "metadata": {},
     "output_type": "display_data"
    }
   ],
   "source": [
    "a=linspace(-10,100)\n",
    "y=a*0\n",
    "plot(a,y); #El valor de le derivada exacta\n",
    "plot(real(list1)); #Se grafica la derivada respecto al numero de la iteración n=1/h\n",
    "grid(\"on\");"
   ]
  },
  {
   "cell_type": "markdown",
   "metadata": {},
   "source": [
    "#### Ejercicio 3. Teniendo en mente la serie de Taylor para  f(x+h)f(x+h)  ¿existe alguna forma de mejorar el cálculo de la derivada numérica?"
   ]
  },
  {
   "cell_type": "markdown",
   "metadata": {},
   "source": [
    "Veamos las dos series de taylor para la  $f$ en $h$ y $-h$:\n",
    "\n",
    "$f(x+h)=\\sum_{k=0}^{\\infty} \\frac{f^{(k)}(x)\\cdot (h)^k}{k!}$ y $f(x-h)=\\sum_{k=0}^{\\infty} \\frac{f^{(k)}(x)\\cdot (-h)^k}{k!}$\n",
    "\n",
    "Ahora restando estas dos series obtenemos:\n",
    "\n",
    "$$f(x+h)-f(x-h)=\\sum_{k=0}^{\\infty} \\frac{f^{(k)(x)}}{k!}\\cdot (h^k-(-h)^k)=\\sum_{k=0}^{\\infty} \\frac{f^{(k)}(x)}{k!}\\cdot (h^k+(-1)^{k+1}\\cdot h^k)=\\sum_{k=0}^{\\infty} \\frac{2f^{(2k+1)}(x)\\cdot h^{2k+1}}{(2k+1)!}$$\n",
    "\n",
    "Entonces $\\sum_{k=0}^{\\infty} \\frac{2f^{(2k+1)}(x)\\cdot h^{2k+1}}{(2k+1)!} \\approx 2f'(x)h$, esto si tomamos el primer término.\n",
    "\n",
    "Por lo que tenemos: $$\\Rightarrow\\ f'(x)\\approx \\frac{f(x+h)-f(x-h)}{2h}$$"
   ]
  },
  {
   "cell_type": "markdown",
   "metadata": {},
   "source": [
    "__Pregunta:__¿Hay una forma de construir una derivada numérica aún mas exacta sin tener que hacer $h$ arbitrariamente pequeño?, ¿que opinas?\n",
    "\n",
    "Pienso que no, debido a que la forma en que se contruye la funcion derivada implica aproximar cada vez más dos objetos, en nuestro caso hacer h (la diferencia) más pequeña cada vez nos acaerca a la respuesta correcta. Si no  variamos h y logramos que otra disminuyera para encontrar la derivada (ya que la derivada exige hacer pequeño algo) implicitamente haría que nuetra $h$ también lo hiciera."
   ]
  },
  {
   "cell_type": "markdown",
   "metadata": {},
   "source": [
    "#### Ejercicio 4. Implementa la derivada simétrica en Julia como derivada_Simetrica y repite la comparativa que realizaste en el ejercicio 2."
   ]
  },
  {
   "cell_type": "code",
   "execution_count": 32,
   "metadata": {
    "collapsed": false
   },
   "outputs": [
    {
     "data": {
      "text/plain": [
       "derivada_sim (generic function with 1 method)"
      ]
     },
     "execution_count": 32,
     "metadata": {},
     "output_type": "execute_result"
    }
   ],
   "source": [
    "function derivada_sim(f,x,h) #Creamos una función que toma como entradas la función , el punto a evaluar,h\n",
    "              df=(f(x+h)-f(x-h))/2h #Aplicamos la fórmula\n",
    "        \n",
    "return df\n",
    "end"
   ]
  },
  {
   "cell_type": "code",
   "execution_count": 34,
   "metadata": {
    "collapsed": false
   },
   "outputs": [
    {
     "data": {
      "text/plain": [
       "0.0"
      ]
     },
     "execution_count": 34,
     "metadata": {},
     "output_type": "execute_result"
    }
   ],
   "source": [
    "derivada_sim(f,0,0.001) #Probamos la función"
   ]
  },
  {
   "cell_type": "code",
   "execution_count": 35,
   "metadata": {
    "collapsed": false
   },
   "outputs": [
    {
     "data": {
      "text/plain": [
       "derivada_sim2 (generic function with 1 method)"
      ]
     },
     "execution_count": 35,
     "metadata": {},
     "output_type": "execute_result"
    }
   ],
   "source": [
    "function derivada_sim2(f,x) #Realizamos lo mismo que en el ejercicio 2.\n",
    "list=zeros(100)\n",
    "n=1\n",
    "           for i in 1:100\n",
    "              df=(f(x+(1/n))-f(x-(1/n)))*n/2 \n",
    "              list[i]=df; #Asignamos el valor de la derivada a un valor de la lista\n",
    "              n+=1 #Se aumenta el valor de n en cada iteración,aqui h=1/n\n",
    "           end\n",
    "return list\n",
    "end"
   ]
  },
  {
   "cell_type": "code",
   "execution_count": 45,
   "metadata": {
    "collapsed": false
   },
   "outputs": [
    {
     "data": {
      "text/plain": [
       "100-element Array{Float64,1}:\n",
       " -0.59501 \n",
       " -0.67801 \n",
       " -0.694085\n",
       " -0.699764\n",
       " -0.702402\n",
       " -0.703838\n",
       " -0.704704\n",
       " -0.705267\n",
       " -0.705653\n",
       " -0.705929\n",
       " -0.706133\n",
       " -0.706289\n",
       " -0.70641 \n",
       "  ⋮       \n",
       " -0.707092\n",
       " -0.707092\n",
       " -0.707093\n",
       " -0.707093\n",
       " -0.707093\n",
       " -0.707093\n",
       " -0.707094\n",
       " -0.707094\n",
       " -0.707094\n",
       " -0.707095\n",
       " -0.707095\n",
       " -0.707095"
      ]
     },
     "execution_count": 45,
     "metadata": {},
     "output_type": "execute_result"
    }
   ],
   "source": [
    "list2=derivada_sim2(f,pi/4) #Evaluamos las dos funciones en el mismo punto (tomando el punro pi/4)"
   ]
  },
  {
   "cell_type": "code",
   "execution_count": 46,
   "metadata": {
    "collapsed": false,
    "scrolled": true
   },
   "outputs": [
    {
     "data": {
      "text/plain": [
       "100-element Array{Float64,1}:\n",
       " -0.920065\n",
       " -0.851135\n",
       " -0.810849\n",
       " -0.787693\n",
       " -0.772877\n",
       " -0.762627\n",
       " -0.755126\n",
       " -0.749403\n",
       " -0.744896\n",
       " -0.741255\n",
       " -0.738252\n",
       " -0.735734\n",
       " -0.733593\n",
       "  ⋮       \n",
       " -0.711064\n",
       " -0.711021\n",
       " -0.710978\n",
       " -0.710936\n",
       " -0.710895\n",
       " -0.710855\n",
       " -0.710815\n",
       " -0.710777\n",
       " -0.710739\n",
       " -0.710702\n",
       " -0.710666\n",
       " -0.710631"
      ]
     },
     "execution_count": 46,
     "metadata": {},
     "output_type": "execute_result"
    }
   ],
   "source": [
    "list3=derivada_num2(f,pi/4)"
   ]
  },
  {
   "cell_type": "code",
   "execution_count": 65,
   "metadata": {
    "collapsed": false
   },
   "outputs": [
    {
     "data": {
      "text/plain": [
       "0.7071067811865475"
      ]
     },
     "execution_count": 65,
     "metadata": {},
     "output_type": "execute_result"
    }
   ],
   "source": [
    "sin(pi/4)"
   ]
  },
  {
   "cell_type": "code",
   "execution_count": 75,
   "metadata": {
    "collapsed": false
   },
   "outputs": [
    {
     "data": {
      "image/png": "[encoded data removed]",
      "text/plain": [
       "PyPlot.Figure(PyObject <matplotlib.figure.Figure object at 0x7f6e4b968490>)"
      ]
     },
     "metadata": {},
     "output_type": "display_data"
    }
   ],
   "source": [
    "plot(list2); #Graficamos ambas funciones evaluadas en el mismo punto\n",
    "plot(list3);x=range(-10,100)\n",
    "grid(\"on\");"
   ]
  },
  {
   "cell_type": "markdown",
   "metadata": {},
   "source": [
    "#### Ejercicio 5: Demuestre que $\\Delta_h$ es un operador lineal y que podemos \"factorizar\" la función a la derecha del operador. Hecho esto podemos quitar de ambos lados la función $f$ para obtener lo siguiente: $$\\Delta_h=\\sum_{n=1}^{\\infty} \\frac{1}{n!}h^n\\left.\\frac{d^n}{d\\xi^n}\\right|_{\\substack{ \\xi=x }}$$"
   ]
  },
  {
   "cell_type": "markdown",
   "metadata": {},
   "source": [
    "Analizando la serie de la diferencia finita hacia adelante podemos factorizar la función útilizando la propiedad de linealidad del operador derivada, antes pasando del lado izquierdo de la serie a $f(x)$:\n",
    "$$\\begin{eqnarray} f(x+h)-f(x)&=& \\left[h \\left. \\frac{d}{d \\xi} \\right|_{\\substack{ \\xi=x }} + \\frac{h^{2}}{2} \\left. \\frac{d^{2}}{d \\xi^{2}} \\right|_{\\substack{ \\xi_{1}=x }} + \\frac{h^{3}}{6} \\left. \\frac{d^{3}}{d \\xi^{3}} \\right|_{\\substack{ \\xi=x }} + \\mathcal{O}\\left(h^{4}\\right)\\right]f{\\left (x \\right )}\\ &=&\\left[ \\sum_{n=1}^{\\infty} \\frac{1}{n!}h^n\\left.\\frac{d^n}{d\\xi^n}\\right|_{\\substack{ \\xi=x }} \\right]f(x) \\end{eqnarray}$$\n",
    "Luego podemos definir el operador $\\Delta_h$, el cual se define como:$$\\Delta_h:f \\mapsto f(x+h)-f(x)=\\Delta f(x,h).$$"
   ]
  },
  {
   "cell_type": "markdown",
   "metadata": {},
   "source": [
    "Tomemos $l(x)=an(x)+bm(x)$ entonces:\n",
    "\n",
    "\n",
    "$$\\Delta_hl(x)=\\sum_{n=1}^{\\infty} \\frac{1}{n!}h^n\\left.\\frac{d^n}{d\\xi^n}\\right|_{\\substack{ \\xi=x }}$$"
   ]
  },
  {
   "cell_type": "code",
   "execution_count": null,
   "metadata": {
    "collapsed": true
   },
   "outputs": [],
   "source": []
  }
 ],
 "metadata": {
  "kernelspec": {
   "display_name": "Julia 0.6.0",
   "language": "julia",
   "name": "julia-0.6"
  },
  "language_info": {
   "file_extension": ".jl",
   "mimetype": "application/julia",
   "name": "julia",
   "version": "0.6.0"
  }
 },
 "nbformat": 4,
 "nbformat_minor": 2
}
